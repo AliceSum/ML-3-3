{
 "cells": [
  {
   "cell_type": "code",
   "execution_count": null,
   "metadata": {},
   "outputs": [],
   "source": []
  },
  {
   "cell_type": "code",
   "execution_count": 73,
   "metadata": {},
   "outputs": [
    {
     "name": "stdout",
     "output_type": "stream",
     "text": [
      "Requirement already satisfied: pandas in /venv/main/lib/python3.12/site-packages (2.2.3)\n",
      "Requirement already satisfied: numpy>=1.26.0 in /venv/main/lib/python3.12/site-packages (from pandas) (2.1.2)\n",
      "Requirement already satisfied: python-dateutil>=2.8.2 in /venv/main/lib/python3.12/site-packages (from pandas) (2.9.0.post0)\n",
      "Requirement already satisfied: pytz>=2020.1 in /venv/main/lib/python3.12/site-packages (from pandas) (2025.2)\n",
      "Requirement already satisfied: tzdata>=2022.7 in /venv/main/lib/python3.12/site-packages (from pandas) (2025.2)\n",
      "Requirement already satisfied: six>=1.5 in /venv/main/lib/python3.12/site-packages (from python-dateutil>=2.8.2->pandas) (1.17.0)\n"
     ]
    }
   ],
   "source": [
    "!pip install pandas"
   ]
  },
  {
   "cell_type": "code",
   "execution_count": 74,
   "metadata": {},
   "outputs": [
    {
     "name": "stdout",
     "output_type": "stream",
     "text": [
      "Python 3.12.3\n"
     ]
    }
   ],
   "source": [
    "!python3 --version"
   ]
  },
  {
   "cell_type": "code",
   "execution_count": 75,
   "metadata": {},
   "outputs": [
    {
     "name": "stdout",
     "output_type": "stream",
     "text": [
      "pip 24.0 from /venv/main/lib/python3.12/site-packages/pip (python 3.12)\n"
     ]
    }
   ],
   "source": [
    "!pip3 --version"
   ]
  },
  {
   "cell_type": "code",
   "execution_count": 76,
   "metadata": {},
   "outputs": [
    {
     "name": "stdout",
     "output_type": "stream",
     "text": [
      "Requirement already satisfied: pandas in /venv/main/lib/python3.12/site-packages (2.2.3)\n",
      "Requirement already satisfied: numpy>=1.26.0 in /venv/main/lib/python3.12/site-packages (from pandas) (2.1.2)\n",
      "Requirement already satisfied: python-dateutil>=2.8.2 in /venv/main/lib/python3.12/site-packages (from pandas) (2.9.0.post0)\n",
      "Requirement already satisfied: pytz>=2020.1 in /venv/main/lib/python3.12/site-packages (from pandas) (2025.2)\n",
      "Requirement already satisfied: tzdata>=2022.7 in /venv/main/lib/python3.12/site-packages (from pandas) (2025.2)\n",
      "Requirement already satisfied: six>=1.5 in /venv/main/lib/python3.12/site-packages (from python-dateutil>=2.8.2->pandas) (1.17.0)\n",
      "Note: you may need to restart the kernel to use updated packages.\n"
     ]
    }
   ],
   "source": [
    "%pip install pandas"
   ]
  },
  {
   "cell_type": "code",
   "execution_count": 77,
   "metadata": {},
   "outputs": [],
   "source": [
    "import pandas as pd"
   ]
  },
  {
   "cell_type": "code",
   "execution_count": 78,
   "metadata": {},
   "outputs": [],
   "source": [
    "from torch.utils.data import Dataset, DataLoader"
   ]
  },
  {
   "cell_type": "code",
   "execution_count": 79,
   "metadata": {},
   "outputs": [
    {
     "name": "stdout",
     "output_type": "stream",
     "text": [
      "Requirement already satisfied: kaggle in /venv/main/lib/python3.12/site-packages (1.7.4.5)\n",
      "Requirement already satisfied: bleach in /venv/main/lib/python3.12/site-packages (from kaggle) (6.2.0)\n",
      "Requirement already satisfied: certifi>=14.05.14 in /venv/main/lib/python3.12/site-packages (from kaggle) (2025.4.26)\n",
      "Requirement already satisfied: charset-normalizer in /venv/main/lib/python3.12/site-packages (from kaggle) (3.4.1)\n",
      "Requirement already satisfied: idna in /venv/main/lib/python3.12/site-packages (from kaggle) (3.10)\n",
      "Requirement already satisfied: protobuf in /venv/main/lib/python3.12/site-packages (from kaggle) (6.31.0)\n",
      "Requirement already satisfied: python-dateutil>=2.5.3 in /venv/main/lib/python3.12/site-packages (from kaggle) (2.9.0.post0)\n",
      "Requirement already satisfied: python-slugify in /venv/main/lib/python3.12/site-packages (from kaggle) (8.0.4)\n",
      "Requirement already satisfied: requests in /venv/main/lib/python3.12/site-packages (from kaggle) (2.32.3)\n",
      "Requirement already satisfied: setuptools>=21.0.0 in /venv/main/lib/python3.12/site-packages (from kaggle) (70.2.0)\n",
      "Requirement already satisfied: six>=1.10 in /venv/main/lib/python3.12/site-packages (from kaggle) (1.17.0)\n",
      "Requirement already satisfied: text-unidecode in /venv/main/lib/python3.12/site-packages (from kaggle) (1.3)\n",
      "Requirement already satisfied: tqdm in /venv/main/lib/python3.12/site-packages (from kaggle) (4.67.1)\n",
      "Requirement already satisfied: urllib3>=1.15.1 in /venv/main/lib/python3.12/site-packages (from kaggle) (2.4.0)\n",
      "Requirement already satisfied: webencodings in /venv/main/lib/python3.12/site-packages (from kaggle) (0.5.1)\n"
     ]
    }
   ],
   "source": [
    "!pip install kaggle"
   ]
  },
  {
   "cell_type": "code",
   "execution_count": 80,
   "metadata": {},
   "outputs": [
    {
     "name": "stdout",
     "output_type": "stream",
     "text": [
      "mkdir: cannot create directory ‘/root/.kaggle’: File exists\n"
     ]
    }
   ],
   "source": [
    "mkdir ~/.kaggle"
   ]
  },
  {
   "cell_type": "code",
   "execution_count": 81,
   "metadata": {},
   "outputs": [],
   "source": [
    "!cp kaggle.json ~/.kaggle/"
   ]
  },
  {
   "cell_type": "code",
   "execution_count": 82,
   "metadata": {},
   "outputs": [],
   "source": [
    "!chmod 600 /root/.kaggle/kaggle.json"
   ]
  },
  {
   "cell_type": "code",
   "execution_count": 83,
   "metadata": {},
   "outputs": [
    {
     "name": "stdout",
     "output_type": "stream",
     "text": [
      "nlp-getting-started.zip: Skipping, found more recently modified local copy (use --force to force download)\n"
     ]
    }
   ],
   "source": [
    "!kaggle competitions download -c nlp-getting-started"
   ]
  },
  {
   "cell_type": "code",
   "execution_count": 84,
   "metadata": {},
   "outputs": [],
   "source": [
    "import zipfile\n",
    "import os"
   ]
  },
  {
   "cell_type": "code",
   "execution_count": 85,
   "metadata": {},
   "outputs": [
    {
     "name": "stdout",
     "output_type": "stream",
     "text": [
      "mkdir: cannot create directory ‘data’: File exists\n",
      "mkdir: cannot create directory ‘data/started’: File exists\n"
     ]
    }
   ],
   "source": [
    "!mkdir \"data\"\n",
    "!mkdir \"data/started\""
   ]
  },
  {
   "cell_type": "code",
   "execution_count": 86,
   "metadata": {},
   "outputs": [],
   "source": [
    "zip_path = 'nlp-getting-started.zip'\n",
    "extract_path = 'data/started'  # Optional: Specify a target directory\n",
    "with zipfile.ZipFile(zip_path, 'r') as zip_ref:\n",
    "    zip_ref.extractall(extract_path)  # Extracts to the specified path\n"
   ]
  },
  {
   "cell_type": "code",
   "execution_count": 87,
   "metadata": {},
   "outputs": [
    {
     "data": {
      "text/html": [
       "<div>\n",
       "<style scoped>\n",
       "    .dataframe tbody tr th:only-of-type {\n",
       "        vertical-align: middle;\n",
       "    }\n",
       "\n",
       "    .dataframe tbody tr th {\n",
       "        vertical-align: top;\n",
       "    }\n",
       "\n",
       "    .dataframe thead th {\n",
       "        text-align: right;\n",
       "    }\n",
       "</style>\n",
       "<table border=\"1\" class=\"dataframe\">\n",
       "  <thead>\n",
       "    <tr style=\"text-align: right;\">\n",
       "      <th></th>\n",
       "      <th>id</th>\n",
       "      <th>keyword</th>\n",
       "      <th>location</th>\n",
       "      <th>text</th>\n",
       "      <th>target</th>\n",
       "    </tr>\n",
       "  </thead>\n",
       "  <tbody>\n",
       "    <tr>\n",
       "      <th>0</th>\n",
       "      <td>1</td>\n",
       "      <td>NaN</td>\n",
       "      <td>NaN</td>\n",
       "      <td>Our Deeds are the Reason of this #earthquake M...</td>\n",
       "      <td>1</td>\n",
       "    </tr>\n",
       "    <tr>\n",
       "      <th>1</th>\n",
       "      <td>4</td>\n",
       "      <td>NaN</td>\n",
       "      <td>NaN</td>\n",
       "      <td>Forest fire near La Ronge Sask. Canada</td>\n",
       "      <td>1</td>\n",
       "    </tr>\n",
       "    <tr>\n",
       "      <th>2</th>\n",
       "      <td>5</td>\n",
       "      <td>NaN</td>\n",
       "      <td>NaN</td>\n",
       "      <td>All residents asked to 'shelter in place' are ...</td>\n",
       "      <td>1</td>\n",
       "    </tr>\n",
       "    <tr>\n",
       "      <th>3</th>\n",
       "      <td>6</td>\n",
       "      <td>NaN</td>\n",
       "      <td>NaN</td>\n",
       "      <td>13,000 people receive #wildfires evacuation or...</td>\n",
       "      <td>1</td>\n",
       "    </tr>\n",
       "    <tr>\n",
       "      <th>4</th>\n",
       "      <td>7</td>\n",
       "      <td>NaN</td>\n",
       "      <td>NaN</td>\n",
       "      <td>Just got sent this photo from Ruby #Alaska as ...</td>\n",
       "      <td>1</td>\n",
       "    </tr>\n",
       "  </tbody>\n",
       "</table>\n",
       "</div>"
      ],
      "text/plain": [
       "   id keyword location                                               text  \\\n",
       "0   1     NaN      NaN  Our Deeds are the Reason of this #earthquake M...   \n",
       "1   4     NaN      NaN             Forest fire near La Ronge Sask. Canada   \n",
       "2   5     NaN      NaN  All residents asked to 'shelter in place' are ...   \n",
       "3   6     NaN      NaN  13,000 people receive #wildfires evacuation or...   \n",
       "4   7     NaN      NaN  Just got sent this photo from Ruby #Alaska as ...   \n",
       "\n",
       "   target  \n",
       "0       1  \n",
       "1       1  \n",
       "2       1  \n",
       "3       1  \n",
       "4       1  "
      ]
     },
     "execution_count": 87,
     "metadata": {},
     "output_type": "execute_result"
    }
   ],
   "source": [
    "df = pd.read_csv('data/started/train.csv')\n",
    "df.head()"
   ]
  },
  {
   "cell_type": "code",
   "execution_count": 88,
   "metadata": {},
   "outputs": [],
   "source": [
    "l = df.text.unique()"
   ]
  },
  {
   "cell_type": "code",
   "execution_count": 89,
   "metadata": {},
   "outputs": [
    {
     "name": "stdout",
     "output_type": "stream",
     "text": [
      "<class 'pandas.core.frame.DataFrame'>\n",
      "RangeIndex: 7613 entries, 0 to 7612\n",
      "Data columns (total 5 columns):\n",
      " #   Column    Non-Null Count  Dtype \n",
      "---  ------    --------------  ----- \n",
      " 0   id        7613 non-null   int64 \n",
      " 1   keyword   7552 non-null   object\n",
      " 2   location  5080 non-null   object\n",
      " 3   text      7613 non-null   object\n",
      " 4   target    7613 non-null   int64 \n",
      "dtypes: int64(2), object(3)\n",
      "memory usage: 297.5+ KB\n"
     ]
    }
   ],
   "source": [
    "df.info()"
   ]
  },
  {
   "cell_type": "code",
   "execution_count": 90,
   "metadata": {},
   "outputs": [
    {
     "data": {
      "text/plain": [
       "['! Residents Return To Destroyed Homes As Washington Wildfire Burns on http://t.co/UcI8stQUg1',\n",
       " '# handbags Genuine Mulberry Antony Cross Body Messenger Bag Dark Oak Soft Buffalo Leather:  å£279.00End Date: W... http://t.co/FTM4RKl8mN',\n",
       " \"#360WiseNews : China's Stock Market Crash: Are There Gems In The Rubble? http://t.co/9Naw3QOQOL\",\n",
       " \"#360WiseNews : China's Stock Market Crash: Are There Gems In The Rubble? http://t.co/aOd2ftBMGU\",\n",
       " \"#360WiseNews : China's Stock Market Crash: Are There Gems In The Rubble? http://t.co/eaTFro3d5x\",\n",
       " \"#360WiseNews : China's Stock Market Crash: Are There Gems In The Rubble? http://t.co/gQskwqZuUl\",\n",
       " \"#3: TITAN WarriorCord 100 Feet - Authentic Military 550 Paracord - MIL-C-5040-H Type III 7 Strand 5/16' di... http://t.co/EEjRMKtJ0R\",\n",
       " \"#3Novices : Renison mine sees seismic event http://t.co/2i4EOGGO5j A small earthquake at Tasmania's Renison tin project has created a tem\\x89Û_\",\n",
       " '#4: The Hobbit: The Desolation of Smaug (Bilingual) http://t.co/G5dO2X6226',\n",
       " '#?? #?? #??? #??? MH370: Aircraft debris found on La Reunion is from missing Malaysia Airlines ...  http://t.co/MRVXBZywd4',\n",
       " '#?? #?? #??? #??? MH370: Aircraft debris found on La Reunion is from missing Malaysia Airlines ...  http://t.co/q1GlK8plUD',\n",
       " '#?? #?? #??? #??? Suicide bomber kills 15 in Saudi security site mosque - Reuters  http://t.co/LgpNe5HkaO',\n",
       " '#?? #?? #??? #??? Suicide bomber kills 15 in Saudi security site mosque - Reuters  http://t.co/txg7K2DO9v',\n",
       " '#?? #???? #??? #??? MH370: Aircraft debris found on La Reunion is from missing Malaysia Airlines ...  http://t.co/hHWv0EUDFv',\n",
       " '#?? #???? #??? #??? MH370: Aircraft debris found on La Reunion is from missing Malaysia Airlines ...  http://t.co/oTsM38XMas',\n",
       " '#??? #?? #??? #??? MH370: Aircraft debris found on La Reunion is from missing Malaysia Airlines ...  http://t.co/zxCORQ0A3a',\n",
       " '#??? #?? #??? #??? MH370: Aircraft debris found on La Reunion is from missing Malaysia Airlines ... http://t.co/5B7qT2YxdA',\n",
       " \"#???? #?? #??? #??? Trains derailment: 'It's the freakiest of freak accidents' - The Indian Express   http://t.co/4Y4YtwhD74\",\n",
       " '#?x?: :and to counter acts such as the burning of the Alexandrian library.',\n",
       " '#ABCNews Obama Declares Disaster for Typhoon-Devastated Saipan: Obama signs disaster declaration for No... http://t.co/DOBZc3piTM #World',\n",
       " '#AFRICANBAZE: Breaking news:Nigeria flag set ablaze in Aba. http://t.co/2nndBGwyEi',\n",
       " '#ActionMoviesTaughtUs things actually can explode with a loud bang...in space.',\n",
       " '#Adani &amp; #Modi plan for mining derailed! Australia court blocks huge India-backed coal mine http://t.co/SjE59U2nNm via @YahooNews',\n",
       " '#Afghanistan: sharp rise in women and children casualties in first half of #2015 http://t.co/LdyWd4ydT9',\n",
       " '#Allah describes piling up #wealth thinking it would last #forever as the description of the people of #Hellfire in Surah Humaza. #Reflect',\n",
       " '#Amsterdam POV video captures violent landing at Amsterdam Airport Schiphol during a st... http://t.co/AlUMrGl40e http://t.co/8h2KCTFB8I',\n",
       " '#Anchorage #Jobs Emergency Medicine - Nurse Practitioner - Healthcare Recruitment Counselors (Wasilla AK): Em... http://t.co/LKz5cNYNxX',\n",
       " '#ArrestpastorNganga it so worrying 2 see how some police officers in Kenya have sunk to low to the point of collaborating with pick pockets',\n",
       " '#Arsonist arrested for setting many fires. WATCH tonight\\x89Ûªs other #headlines: http://t.co/sqgogJ3S5r. #Nightbeat @VeronicaDLCruz #2MinuteMix',\n",
       " '#AskCharley #Emmerdale How emotional are you that Ross is dead? @emmerdale 5',\n",
       " '#Australia #News ; #Japan marks 70th anniversary of #Hiroshima atomic bombing  http://t.co/7aD0L7cgee READ MORE; http://t.co/hHzQl9tzNP',\n",
       " \"#Australia #News ; RT janeenorman: 'High probability' aircraft wreckage is from #MH370 according to Deputy Prime \\x89Û_ http://t.co/cdOHgnJmsT\",\n",
       " '#Autoinsurance industry clueless on #driverlesscars : #Markets : #Money Times http://t.co/YdEtWgRibk',\n",
       " '#Autoinsurance industry clueless on driverless cars : #healthinsurance http://t.co/YdEtWgRibk',\n",
       " '#AyekoRadio play Brasswork Agency - Crushed and Shaken http://t.co/Qh5axvhWH5 #Radio #NetLabel #ElectronicMusic #listen #CCMusic',\n",
       " '#BBSNews latest 4 #Palestine &amp; #Israel -  Six Palestinians Kidnapped in West Bank Hebron Home Demolished http://t.co/gne1fW0XHE',\n",
       " \"#BBShelli seems pretty sure she's the one that's going to stay! #BB17\",\n",
       " '#BHRAMABULL Watch Run The Jewels Use Facts to Defend Rioting in Ferguson: The socially minded duo takes on the... http://t.co/Ld5P1sIa2N',\n",
       " \"#BREAKING 10th death confirmed in Legionnaires' outbreak in South Bronx; total cases reaches triple digits\\nhttp://t.co/TxrsWi0efg\",\n",
       " '#BREAKING411 4 police officers arrested for abusing children at police-run boot camp in San Luis Obispo Calif. - ... http://t.co/oNLvf2fyoY',\n",
       " \"#BREAKING: there was a deadly motorcycle car accident that happened to #Hagerstown today. I'll have more details at 5 @Your4State. #WHAG\",\n",
       " \"#BakeOffFriends #GBBO 'The one with the mudslide and the guy with the hat'\",\n",
       " '#BakeOffFriends the one with the mudslide',\n",
       " \"#Bangalore  Reddit updates content policy promises to quarantine 'extremely offensive' communities http://t.co/Of3Q75fGeU #Startups  #in\",\n",
       " '#Battlefield 1942 forgotten hope secret weapons',\n",
       " '#Bestnaijamade: 16yr old PKK suicide bomber who detonated bomb in ... http://t.co/KSAwlYuX02 bestnaijamade bestnaijamade bestnaijamade be\\x89Û_',\n",
       " '#Biztip We recommend all businesses to get an alternative source of electricity. #Solar Wind and Batteries. Have an emergency plan! Now!',\n",
       " '#Borrowers concerned at possible #interest rate rise. This could be a #catastrophe http://t.co/SBHHkkz01Y',\n",
       " '#Boulder deputies are waiting for the bomb squad to detonate grenade like this one found in Stearns lake today http://t.co/7cADM3lNkO',\n",
       " \"#Breaking #News - Call for Tasmania's emergency services to be trained in horse ... - http://t.co/urJwsVr311 http://t.co/7JfrETeIi4\",\n",
       " '#Breaking144 Obama Declares Disaster for Typhoon-Devastated Saipan: Obama signs disaster declarat... http://t.co/M8CIKs60BX #AceNewsDesk',\n",
       " '#Breaking: Authorities have issued new mandatory evacuation notices for 25 homes to the North of the fire in #Roosevelt WA',\n",
       " '#BreakingNews Militants attack Udhampur police post; 2 SPOs injured http://t.co/EqCCrTlnbd',\n",
       " '#BreakingNews http://t.co/gAN14PW9TG FedEx no longer willing to transport research specimens of potential bioter\\x89Û_ http://t.co/5n4hUsewLy',\n",
       " '#CCOT #TCOT #radiation Nuclear Emergency Tracking Center\\nhttp://t.co/KF74o2mcsC\\nhttps://t.co/N2ZHrChCGV',\n",
       " '#CDCwhistleblower 2 deaths from measles complications in 10 yrs everyone looses their shit. 8 dead from Legionnaires in a month &amp; crickets',\n",
       " '#California #wildfire destroys more homes but crews advance. http://t.co/2PPzGpxybi http://t.co/dS9khKffwc',\n",
       " '#Camera #Art #Photography http://t.co/TJGxDc3D5p #0215 New BoltåÊCyclone DR PP-400DR Dual Outlet Power PackåÊFor External Camera Flash\\n\\n$30\\x89Û_',\n",
       " '#Christians United for #Israel (#CUFI): Jews should convert soon or die by armageddon https://t.co/4aRWwRZPsr #US http://t.co/mkJQ9yfMP8',\n",
       " '#Civilian casualties in Afghanistan hit highest number since 2009 U.N. says via @WashingtonPost - http://t.co/xTF5DvgRvh',\n",
       " '#ClimateChange Eyewitness to Extreme Weather: 11 Social Media Posts that Show Just How Crazy Things A... http://t.co/czpDn9oBiT #Anarchy',\n",
       " \"#Colorado #Avalanche Men's Official Colorado Avalanche Reebok T-Shirt XL Blue 100% Cotton http://t.co/ZNSvsTGwx3 #NHL #Hockey\",\n",
       " '#Colorado #News Motorcyclist bicyclist injured in Denver collision on Broadway: At least two people were tak... http://t.co/2iAFPmqJeP',\n",
       " '#Cowboys: George: Injury woes took Claiborne from first round to trying to stick around; can he do it?:  http://t.co/12giQbVLYs',\n",
       " \"#Cowboys: Wednesday's injury report: RB Lance Dunbar injures ankle is listed as day-to-day:  http://t.co/RkB7EgKveb\",\n",
       " \"#Cyprus: News Analysis: Mullah Omar's death may split Taliban's ranks - ..Omar's demise would certainly lead... http://t.co/AJkmcusWHo\",\n",
       " '#DU19 who gon get in this rap battle with me',\n",
       " '#DW Hundreds feared drowned as migrant boat capsizes off Libya: Hundreds of migrants are\\x89Û_ http://t.co/VOX99FWKcX',\n",
       " '#DebateQuestionsWeWantToHear If U start another war would U B willing 2 go 2 the war-zone yourself or send UR sons and/or daughters 2 fight?',\n",
       " '#DebateQuestionsWeWantToHear Why does #Saudi arabia and #Israel get away with mass murder?\\n#Wahhabism #Zionism',\n",
       " '#Denver CO #Insurance #Job: Claims Property Field Adjuster Catastrophe Safeco \\x89ÛÒ USA at Liberty Mutual Insurance http://t.co/3k42MJVqCA',\n",
       " '#DnB #NewRelease EDGE Jimmy - Summer Rainstorm (Lapaka Sounds) http://t.co/4L8h2FKlNO via http://t.co/ZITQKDFXJY',\n",
       " '#DroughtMonitor: Moderate or worse #drought ? to ~27% of contig USA; affects ~80M people. http://t.co/YBE9JQoznR http://t.co/328SzflEtZ',\n",
       " '#EMERGENCY in Odai Bucharest Romania 600 Dogs Dying!They are so Hungry that they EAT EACH OTHER! http://t.co/pjigXPVPl0',\n",
       " '#Earthquake #Sismo M 1.4 - 4km E of Interlaken California: Time2015-08-06 00:52:25 UTC2015-08-05 17:52:25 -07... http://t.co/wA5C77F8vQ',\n",
       " '#Earthquake #Sismo M 1.9 - 15km E of Anchorage Alaska: Time2015-08-06 00:11:16 UTC2015-08-05 16:11:16 -08:00 ... http://t.co/Z0VeR1hVM9',\n",
       " '#Earthquake #Sismo M 1.9 - 5km S of Volcano Hawaii: Time2015-08-06 01:04:01 UTC2015-08-05 15:04:01 -10:00 at ... http://t.co/eTswuoD3oM',\n",
       " '#EverydayNaija | Flood: Two people dead 60 houses destroyed in Kaduna http://t.co/nOnm8C6L8P',\n",
       " '#Eyewitness media is actively embraced by #UK audiences. Read the report by @emhub on the impact of #UGC in news: http://t.co/6mBPvwiTxf',\n",
       " \"#FOXDebateQuestions:  To what degree has Obama's efforts to institute Sharia Law exacerbated the California wild fires?\",\n",
       " \"#FX #forex #trading Cramer: Iger's 3 words that wrecked Disney's stock http://t.co/7enNulLKzM\",\n",
       " '#FedEx no longer to transport bioterror germs in wake of anthrax lab mishaps http://t.co/S4SiCMYRmH',\n",
       " '#Flashflood causes #landslide in Gilgit #Pakistan Damage to 20 homes farmland roads and bridges #365disasters  http://t.co/911F3IXRH0',\n",
       " '#Flood in Bago Myanmar #We arrived Bago',\n",
       " '#Floored4 #Flattened \\n\\nEarly birds does get de cups .... so lag bout pun de dock and watch ppl drink\\x89Û_ https://t.co/r5StV25ZhQ',\n",
       " '#FunnyNews #Business Watch the moment a cliff collapses as huge chunks of rock fall onto a road in China  http://t.co/LCi3pljX25',\n",
       " \"#GBBO The difference between Paul and Mary my dears\\nPaul: 'it looks like a mudslide'\\nMary: 'I have a feeling it's going to taste great'\",\n",
       " '#GRupdates Pic of 16yr old PKK suicide bomber who detonated bomb in Turkey Army trench released --&gt; http://t.co/fqcDPhccg7',\n",
       " \"#GamerGate 'Our entire attempt to hijack your community destroy your industry and scam everyone in sight was just sarcastic'.\\n\\nDrop dead.\",\n",
       " '#Glaucoma occurs when fluid builds up pressure inside #eye to a level that may damage optic nerve #eyefacts',\n",
       " '#Glimpses: Hyderabad deluged by heavy rainfall | http://t.co/DctV1uJLHc http://t.co/QOx1jNQSAU',\n",
       " \"#Greece's tax revenues collapse as debt crisis continues via @guardian #bailout http://t.co/cJvbQXw83s ^mp\",\n",
       " \"#GrowingUpSpoiled going clay pigeon shooting and crying because of the 'aftershock'\",\n",
       " '#GrowingupBlack walking past chicken frying was like entering a war zone.',\n",
       " '#HSE releases annual workplace facilities data. Have a look | http://t.co/h4UshEekxm http://t.co/jNHNX3oISN',\n",
       " '#Healthcare #Job in #Kodiak AK: Emergency Services Supervisor - Emergency... at Providence Health &amp; Services http://t.co/8KJ1wDAiGj #Jobs',\n",
       " '#HeartDisease U.S. Forest Service says spending more than half of budget on fires http://t.co/KzfiGkEeva',\n",
       " '#Horrible #Accident Man Died In Wings Airplane (29-07-2015) #WatchTheVideo http://t.co/p64xRVgJIk',\n",
       " '#HungerArticles: Nepal: Rebuilding Lives and Livelihoods After Quake Devastation http://t.co/LROuWjMbIx',\n",
       " '#ICYMI #Annoucement from Al Jackson... http://t.co/7BevuJE5eP',\n",
       " '#IDFire Cherokee Road and Road 22 (Three Sisters Wildfire): There are two roads closed to the general public: ... http://t.co/UORXfF0NfX',\n",
       " '#IDFire Parker Ridge Fact Sheet Aug 6 2015 (Parker Ridge Wildfire): Information Phone: 208-267-6773 Email: pa... http://t.co/ZggpaCjP7D',\n",
       " '#INCIDENT\\nCrash in Pascoe Vale South outbound on Tullamarine Fwy (CityLink) near Moreland Rd. Vehicles off in emergency lane. No delays.',\n",
       " '#ISIS claims responsibility for Saudi suicide bombing  http://t.co/jlMICJ6jE5',\n",
       " '#Illinois: Emergency units simulate a chemical explosion at NU https://t.co/rd10EX6HvT via @sharethis #hazmat',\n",
       " \"#InsaneLimits #plugin enabled  @'    =TPS= | TDM | 400T | HARDCORE | LOCKER | WEAPON RULES' using 3 limits\",\n",
       " '#Insurance Texas Seeks Comment on Rules for Changes to Windstorm Insurer: The Texas Department of Insurance is...  http://t.co/byvUBg0WyE',\n",
       " '#Insurance: Texas Seeks Comment on Rules for Changes to Windstorm Insurer http://t.co/rb02svlpPu',\n",
       " \"#IranDeal most members of Congress who don't want this deal don't have any kids who would b coming home in body bags. War makes them money\",\n",
       " '#Islamic #state issue a new holiday #brochure lovely swimming pool for drowning in shooting range and the downside it costs a #bomb',\n",
       " '#JSunNews Storm damage reported in Madison County: Thunderstorm damage reports ar... http://t.co/s7NBowa7TP (via http://t.co/3f7owdEcy7)',\n",
       " '#Jackson #ms Longest Streak of Triple-Digit Heat Since 2013 Forecast in Dallas http://t.co/Ih0Awv3L1O',\n",
       " '#Japan #Fukushima the most serious man made disaster in human history...  \\x89ÛÏa marker of radiation brain damage\\x89Û\\x9d http://t.co/Y3ZfqJsvpz',\n",
       " '#Japan marks 70th anniversary of #Hiroshima atomic bombing (from @AP) http://t.co/qREInWg0GS',\n",
       " '#KAMINDOZ #reuters Debris confirmed from MH370; relatives hope for discovery of crash s... http://t.co/xrdwR8CDvM http://t.co/fxtfFL4aXy',\n",
       " '#KCA #VoteJKT48ID 12News: UPDATE: A family of 3 has been displaced after fired damaged housed near 90th and Osborn. Fire extinguished no i\\x89Û_',\n",
       " \"#KCA #VoteJKT48ID DUCKVILLELOL: Burning flips the table and says 'screw this lets hit some buildings!' Grabs a DR \\x89Û_ http://t.co/03L7NwQDje\",\n",
       " \"#KCA #VoteJKT48ID mbataweel: #RIP #BINLADEN Family members who killed in an airplane's accident\",\n",
       " \"#Kick Hendrixonfire  @'=BLACKCATS= | BIG NOOB CONQUEST | MIXED MAPS | ALL WEAPONS' for violated K/DR  Limit /Server  max 3\",\n",
       " '#Kisii Police in Kisii hunt for students over failed arson plot: Police in Kisii hunt for students... http://t.co/5bdrFU1duo #CountyNews',\n",
       " '#Kisii Police in Kisii hunt for students over failed arson plot: Police in Kisii hunt for students... http://t.co/m5SbFRrSn7 #CountyNews',\n",
       " '#Kurds trampling on Turkmen flag later set it ablaze while others vandalized offices of Turkmen Front in #Diyala http://t.co/4IzFdYC3cg',\n",
       " '#LOL Plymouth (\\x89Û÷Let\\x89Ûªs Obliterate Litter\\x89Ûª) http://t.co/GDrssjbH8q',\n",
       " '#LakeEffect #Snowstorm Twill Denim Jackets   *** ALL MY PROCEEDS FOR ITEMS WITH THIS DESIGN WILL GO\\x89Û_ https://t.co/TxTpx4umqH',\n",
       " '#Landslide! Trump 25.5% Bush 12.5% http://t.co/xY41z0O5ei via @pollster @realdonaldtrump',\n",
       " '#Laos flooding -10 villages underwater World Vision responding http://t.co/8fvQRizOUX',\n",
       " '#LatestNews: Tension In Bayelsa As Patience Jonathan Plans To Hijack APC PDP',\n",
       " '#Lifestyle \\x89Û÷It makes me sick\\x89Ûª: Baby clothes deemed a \\x89Û÷hazard\\x89Ûª http://t.co/0XrfVidxA2 http://t.co/oIHwgEZDCk',\n",
       " '#LoMasVisto THOUSANDS OF HIPSTERS FEARED LOST: Giant Sinkhole Devours Brooklyn Intersectio... http://t.co/qwtk1b2fMC #CadenaDeSeguidores',\n",
       " \"#LonePine remembered around Australia as 'descendants' grow via @666canberra #Gallipoli #WW1\\nhttp://t.co/T4fvVnRPc5 http://t.co/0zZnbVFUVO\",\n",
       " \"#LukeBox something about first responders/ military they are our true Hero's!! Besides your music\",\n",
       " \"#MTSAlert Orange &amp; Blue Line riders: Expect delays downtown due to a sinkhole that's developed in the vicinity of 4th &amp; C Street.\",\n",
       " '#MakeWaterWork Okanagan! Drought rating maxed out - Okanagan Valley http://t.co/tXrBdaUBNN http://t.co/Ue78c7EgOX #WesternCanadaDrought',\n",
       " '#MeditationByMSG 45600 ppl got method of meditation in U.P &amp;got deluge of divine blessing 4 happy n peaceful life. http://t.co/VMf5LnxVzC',\n",
       " '#Metepec #Mexico - ?NIGHT DISASTER?...E(Oficial) @ #NitClub #mÌ¼sica #mÌ¼sica http://t.co/WTfJF9jjzs',\n",
       " \"#Metro still doesn't know when Blue &amp; Orange lines will reopen. Empty passenger car derailed ~ 5 a.m. NOT a new 7000-series. @CQnow #WMATA\",\n",
       " '#MissionHills CA #Nursing : Registered Nurse - Emergency Department ( Full Time... at Providence Health &amp; Services http://t.co/Z5grLREy6V',\n",
       " '#ModiMinistry Madhya Pradesh Train Derailment: Village Youth Saved Many Lives http://t.co/YvMpHd0z9X',\n",
       " '#ModiMinistry Railway Minister Prabhu calls MP derailment a natural calamity http://t.co/tL41olpAkZ',\n",
       " '#ModiMinistry Rly tragedy in MP: Some live to recount horror http://t.co/s43wE7Oe2i',\n",
       " '#MrRobinson is giving me #TheSteveHarveyShow vibe. Music teacher looks out for students has crush on girl he went to high school with. ??',\n",
       " '#Myanmar  Displaced #Rohingya at #Sittwe point of no return http://t.co/cgf61fPmR0  #Prison like conditions #genocide IHHen MSF Refugees',\n",
       " '#Myanmar  Displaced #Rohingya at #Sittwe point of no return http://t.co/qegMRhSms2  #Prison like conditions #genocide @IHHen @MSF @Refugees',\n",
       " \"#Myanmar 's Displaced #Rohingya at #Sittwe point of no return http://t.co/gsa4o1mjNm Prison-like conditionsprivation http://t.co/i5ma6eWuwc\",\n",
       " '#NASA announced that a massive #solar storm is headed straight for us: http://t.co/CM5u55MiOl',\n",
       " '#NJTurnpike å_ #NJTurnpike Reopens Hours After Truck Fire In? http://t.co/oABJZtbVyZ http://t.co/GPBXRrDc07',\n",
       " '#NOWPLAYING Arsonist MC -  So Impressed -  @ARSONISTMUSIC http://t.co/1ElreH1jLJ',\n",
       " '#NP Metallica - Damage Inc',\n",
       " '#NYC #News Legionnaires death toll rises to 8 in New York City: All eight fatalities were of older adults with... http://t.co/IQJ1Z3jXx8',\n",
       " '#NZ Hollywood movie about trapped miners released in Chile http://t.co/0aJIsA5531 #HugoMatz',\n",
       " '#NaturalDisasters As California fires rage the Forest Service sounds the alarm about rising wildfire costs: \\x89Û_...  http://t.co/TQwrW3jQWo',\n",
       " \"#Nevada's \\x89Û÷exceptional\\x89Ûª #drought steady at ~11%; ~ 95% of #NV in drought: http://t.co/Nyo1xueBFA @DroughtGov http://t.co/w0a1MJOrHY\",\n",
       " '#News : The Latest: More Homes Razed by Northern California Wildfire - New York Times http://t.co/5kBRZZmf8c #TAFS #FB100%',\n",
       " \"#News Bin Laden family plane crashed after 'avoiding microlight and landing too far down runway' http://t.co/x9MDHocpda\",\n",
       " \"#News Families to sue over Legionnaires: More than 40 families affected by the fatal outbreak of Legionnaires'... http://t.co/zfYqSAwvrk\",\n",
       " '#News FedEx no longer to transport bioterror germs in wake of anthrax lab mishaps (say what?): åÊFedEx no... http://t.co/K0Y7xFxmXA #TCOT',\n",
       " \"#News: 'Many deaths' in shipwreck: Rescuers are trying to save hundreds of migrants after the... http://t.co/tX51oYbrN6 via @TheNewsHype\",\n",
       " '#Newswatch: 2 vehicles collided at Lock and Lansdowne Sts in #Ptbo. Emerg crews on their way',\n",
       " \"#NissanNews : Trauma Alert and 1 Child Among 6 Hospitalized After 2-Car Wreck on A1A Near Bing's Landing: The ... http://t.co/9dWyJqvFY4\",\n",
       " '#NoChillLukeHammings\\nIM SCREAMING',\n",
       " '#NoSurrender Results: Full Metal Mayhem World Title Match Bully Ray Taken Out A Career Comes To An End and More! http://t.co/G6moNVnpSu',\n",
       " '#NoSurrender Results: Full Metal Mayhem World Title Match Bully Ray Taken Out A Career Comes To An End and More! http://t.co/XEHwmsH7Lv',\n",
       " \"#NowPlaying 'The Lightning Strike' de Snow Patrol de A Hundred Million Suns ? http://t.co/GrzcHkDF37\",\n",
       " '#NowPlaying * Cliff Richard - I Could Easily Fall (In Love With You) (&amp; Shadows) * #Internet #Nieuws #Radio On http://t.co/8LkMWp9qzw',\n",
       " '#NowPlaying Fitz And The Tantrums - Out Of My League on #Crush #Listen http://t.co/Pwd5L0GLkV #NowPlaying',\n",
       " '#NowPlaying Last Smoke Before The Snowstorm by Benjamin Francis Leftwich - hopefully new album coming soon :) ? http://t.co/5kjy8G0i4y',\n",
       " '#NowPlaying Porcupine Tree - Drown With Me (Live) #Listen #Live at http://t.co/iyLVzy3Cob',\n",
       " '#NowPlaying School Of Seven Bells - Windstorm #WZBT',\n",
       " \"#NowPlaying at #orchardalley in #LES of #nyc 'bioterror- manufactured fear and state repression' @abcnorio #gardens http://t.co/Ba2rRXUgsG\",\n",
       " \"#NowPlaying the playlist 'When Jazz and Hip-Hop Collide' in @TIDALHiFi http://t.co/mzQq5PAi8G\",\n",
       " '#NowPlaying: Dubstep Hardstyle Trap Messy Mix (event recording) by Alien Casualty on @Mixify http://t.co/m203UL6o7p http://t.co/m203UL6o7p',\n",
       " '#NowPlaying: Rene Ablaze &amp; Ian Buff - Magnitude http://t.co/Av2JSjfFtc  #EDM',\n",
       " '#Nuclear policy of #Japan without responsibility about Nuclear #Disaster will repeat same #failure.\\n#annonymous #guardian #NYTimes #Reuters',\n",
       " '#Nursing alert: Emergency Department Psychiatric RN (.90 FTE Day) | Providence Health &amp; Services | #Olympia WA http://t.co/Yu6NUe7gFB',\n",
       " \"#OMG! I don't believe this. #RIP bro\\n#AirPlane #Accident #JetEngine #TurboJet #Boing #G90 http://t.co/KXxnSZp6nk\",\n",
       " '#OVOFest Drake straight body bagging Meek on that OVO stage. #ZIPHIMUP!',\n",
       " '#Obama signed up to a deal that far from making the world a safer place http://t.co/E0luGBL6pb via @upi #Iran #Nuclear #IranNuclearDeal',\n",
       " '#OilandGas Exploration Takes Seismic Shift in #Gabon to #Somalia http://t.co/oHHolJ9vEV via @business',\n",
       " '#OnThisDay in 1620 the Mayflower set sail for the New World. Read @LaphamsQuart: http://t.co/ssn1mxSFOA http://t.co/FW8ElbnAP7',\n",
       " \"#PBBan (Temporary:300) Russaky89 @'aRmageddon | DO NOT KILL | FLAGS ONLY | Fast XP' for Reason\",\n",
       " \"#PBBan (Temporary:300) avYsss @'aRmageddon | DO NOT KILL | FLAGS ONLY | Fast XP' for Reason\",\n",
       " \"#PBBan (Temporary:300) fighterdena @'aRmageddon | DO NOT KILL | FLAGS ONLY | Fast XP' for Reason\",\n",
       " \"#PBBan (Temporary:300) hyider_ghost2 @'aRmageddon | DO NOT KILL | FLAGS ONLY | Fast XP' for Reason\",\n",
       " '#PFT Barkevious Mingo missed Browns practice with a mystery injury http://t.co/D7m9KGMPJI',\n",
       " '#PT: The unit attacked by IS was responsible for targeting Muslim Scholars and imprisoning the youth. http://t.co/f4LhfmEhzh',\n",
       " '#Pandemonium.iso psp http://t.co/HbpNFOAwII',\n",
       " \"#PapiiChampoo What I enjoy most about the Obama era is the civility: Prez says GOP supports Iranian 'Death to ... http://t.co/jpU3es746I\",\n",
       " '#Philippines Former Township fire truck being used in Philippines: \\x89Û_  of emergency equipment in Cebu Philippi...  http://t.co/aL28RVkqPQ',\n",
       " '#PlayingNow #BLOODBOUND Seven Angels Media Stream http://t.co/dlY6rUuSqK',\n",
       " '#Politics Democracy\\x89Ûªs hatred for hate: \\x89Û_ Dawabsha threaten to erode Israeli democracy. Homegrown terrorism ha...  http://t.co/q8n5Tn8WME',\n",
       " '#Putin decree results in destruction of 10 tons of imported cheese near Russia-Ukraine border. RT @Independent http://t.co/K3pnNktlXh',\n",
       " '#RFP: Fire Truck Service Body for F-450 (Fire fighting rescue &amp; safety equipment Transporta... http://t.co/8GtRvEcE1N',\n",
       " '#ROH3 #JFB #TFB #alrasyid448ItuRasya Correction: Tent Collapse Story http://t.co/iZJToojzKp #US ROH3 SmantiBatam #ROH3SmantiBatam',\n",
       " '#RaheelSharif is manifesting how one RIGHT man at the helm can save a Sinking Ship engulfed in a Dark-Stormy-Tidal-Sea. Well Done.',\n",
       " '#Reddit updates #content #policy promises to quarantine \\x89Û÷extremely offensive\\x89Ûª communities http://t.co/EHGtZhKAn4',\n",
       " '#RockyFire Update => California Hwy. 20 closed in both directions due to Lake County fire - #CAfire #wildfires',\n",
       " '#RoddyPiperAutos Fears over missing migrants in Med: Rescuers search for survivors after a boat carrying as ma...  http://t.co/97B8AVgEWU',\n",
       " '#Rohingya houses in #Kyee NockThie hamlet from Taungbazar region in Buthidaung were severely damaged in Cyclone @KasitaRoch @VivianUNHCR',\n",
       " '#RolandoNaBeats: Ellie Goulding - My Blood | Acesse nosso site para ouvir! http://t.co/Zk69uGXMT8',\n",
       " \"#Russia 'food crematoria' provoke outrage in country w/soaring poverty +Soviet famine memory http://t.co/vymOuZjZRe http://t.co/eNRJh5Qkve\",\n",
       " '#Russian food crematoria provokes outrage amid crisis famine memories http://t.co/FjeaFgbZfJ',\n",
       " '#SBNation #Flames What Makes a Good Penalty Killer? http://t.co/xYi5fDacxO http://t.co/SjtvzgGcXU',\n",
       " '#SCSeEstaPreparando Light mag. 4.4 earthquake  - - 73km SW of Khuzdar Pakistan on Wednes... http://t.co/i6lmcccLv5 via @volcanodiscover',\n",
       " '#SanDiego #News Sinkhole Disrupts Downtown Trolley Service: The incident happened Wed... http://t.co/RVMMuT3GvC #Algeria #???????',\n",
       " '#Saudi Arabia: #Abha: Fatalities reported following suicide bombing at mosque; avoid area http://t.co/1xW0Z8ZeqW',\n",
       " \"#Seattle's deadliest red light runner intersections revealed\\n http://t.co/gHk9Xup6E0\",\n",
       " '#Setting4Success Bells toll in Hiroshima as Japan marks 70 years since atomic bombing #News #smallbusiness #entrepreneur',\n",
       " '#Shipping #Logistics eNCA | Fatalities as migrant boat capsizes in Med with hundreds onboard: \\x89Û_  capsized as i...  http://t.co/dnO7QXcFfh',\n",
       " '#SigAlert: North &amp; Southbound 133 closed btwn 5 fwy and Irvine Blvd due to truck fire. CHP is detouring traffic.',\n",
       " '#Sinjar Massacre #Yazidis Blast Lack of Action Over Hostages http://t.co/JhOaHpbpQ4 Portland #Phoenix #Newyork #Miami #Atlanta #Casper #Iraq',\n",
       " '#SirensIcebreaker What is one fantasy work about a diverse heroine that you think everyone should read? https://t.co/HplJUr0OBo',\n",
       " '#Sismo DETECTADO #JapÌ_n 06:32:43 Miyagi Estimated seismic intensity 0 JST #??',\n",
       " '#Sismo DETECTADO #JapÌ_n 15:41:07 Seismic intensity 0 Iwate Miyagi JST #?? http://t.co/gMoUl9zQ2Q',\n",
       " '#Sismo DETECTADO #JapÌ_n [Report 1] 01:01:56 Okinawa Island region M4.0 Depth 10km Maximum seismic intensity 3 JST #??',\n",
       " '#Sismo DETECTADO #JapÌ_n [Report 3] 01:02:17 Okinawa Island region M3.8 Depth 10km Maximum seismic intensity 3 JST #??',\n",
       " '#Sismo M 1.3 - 1km NNE of The Geysers California: Time2015-08-05 23:40:21 UTC2015-08-05 16:40:21 -07:00 a... http://t.co/x6el3ySYcn #CS',\n",
       " '#Sismo M 1.9 - 5km S of Volcano Hawaii: Time2015-08-06 01:04:01 UTC2015-08-05 15:04:01 -10:00 at ep... http://t.co/RTUeTdfBqb #CSismica',\n",
       " '#Sismo ML 2.4  NEAR THE COAST OF WESTERN TURKEY: MagnitudeåÊåÊML 2.4RegionåÊåÊNEAR THE COAST OF WESTERN TURKEY... http://t.co/0wdAzLcM90 #CS',\n",
       " '#Spotlight Take Me To Paradise by Arsonist MC #WNIAGospel http://t.co/1he4UfaWZm @arsonistmusic http://t.co/BNhtxAEZMM',\n",
       " '#TBT Remember that time Patrick Kane attacked a cab driver over .20',\n",
       " '#TBT to that time my best friend and I panicked at the disco. https://t.co/htpqvoHtUd',\n",
       " \"#TNN: China's Stock Market Crash: Are There Gems In The Rubble? http://t.co/9LO0hZwJPZ\",\n",
       " '#TRAFFICALERT  Eastbound 210 Freeway at Citrus Ave in Azusa. Two motorcycles involved in accident with one fully engulfed in flames in lanes',\n",
       " '#Taiwan Grace: expect that large rocks trees mud unstable and/or saturated land may slide ..very hazardous in hilly/mountain areas...',\n",
       " '#Tampa: Super Freestyle Explosion Live in Concert at Amalie Arena - Sep  19\\n? Ticket Info: http://t.co/ooGotO76uZ',\n",
       " '#Tanzania elephant population declined by 60% in five years census reveals http://t.co/YxtZbTVMhm http://t.co/7jGgqwbv6S',\n",
       " \"#Tb #throwback ??\\n\\n??~ You want a battle? Here's a War! ~ ?? https://t.co/B0ZJWgmaIW\",\n",
       " '#TeamFollowBack Madhya Pradesh Train Derailment: Village Youth Saved Many Lives  #FollowBack',\n",
       " '#TheDoolingGroup 2 injured when 2 school buses collide - åÊ #BREAKING: School bus slams into school bus in Bordento... http://t.co/YQHfio9XQm',\n",
       " \"#TheaterShooting DEFENDANT/MASS MURDERER CHOSE NOT 2 TESTIFY IN FINAL PHASE 3 so he won't therefore B subject 2 cross-exam or jury questions\",\n",
       " '#ThingsIhate \\nWatching someone you care about head into total destruction and not being able to do anything.',\n",
       " '#Thorium Radioactive Weapons. Scandals murders and environmental devastation: - VIDEO http://t.co/mly7sDN6eV',\n",
       " '#Tigers Wonder how much the upheaval with team is affecting different players tonight?',\n",
       " '#TornadoGiveaway åÊ #thebookclub åÊ Join in!! http://t.co/LjOMCTUZFy https://t.co/2zGVSLOX5p',\n",
       " '#TrainTragedy - Happened in MP due to collapse of bridge now I m afraid to take a long distance train. http://t.co/JthusynJaH',\n",
       " \"#TruckCrash Overturns On #FortWorth Interstate http://t.co/Rs22LJ4qFp Click here if you've been in a crash&gt;http://t.co/Ld0unIYw4k\",\n",
       " '#Trump debate will be most highly watched show tonight even among progressives. I too will watch hoping for a spectacular flaming wreck.',\n",
       " '#Turkish couple decided to feed 4000 #Syrian #refugees as part of their #wedding celebrations http://t.co/EHLq3ZSPTd http://t.co/DjX5eLbrv1',\n",
       " '#Tweet4Taiji is a dolphin worship group based on superstitions! Just take a look at their tweets!',\n",
       " '#TweetLikeItsSeptember11th2001 Those two buildings are on fire',\n",
       " \"#UK Bin Laden family plane crashed after 'avoiding microlight and landing too far down runway': Three members ... http://t.co/fQj0SqU3lG\",\n",
       " '#USGS M 0.9 - Northern California: Time2015-08-06 01:50:25 UTC2015-08-06 01:50:25 UTC at epicenter... http://t.co/mBo6OAnIQI #EarthTwerk',\n",
       " '#USGS M 1.2 - 23km S of Twentynine Palms California: Time2015-08-05 23:54:09 UTC2015-08-05 16:54:09 -07:0... http://t.co/kF0QYBKZOL #SM',\n",
       " '#USGS M 1.4 - 4km E of Interlaken California: Time2015-08-06 00:52:25 UTC2015-08-05 17:52:25 -07:00 at ep... http://t.co/zqrcptLrUM #SM',\n",
       " '#USGS M 1.9 - 5km S of Volcano Hawaii: Time2015-08-06 01:04:01 UTC2015-08-05 15:04:01 -10:00 at epicenter... http://t.co/dIsrwhQGym #SM',\n",
       " '#UdhampurAgain 2 terrorist shot dead.. #Udhampur',\n",
       " '#Vancouver to host 100s of electronic art events including @MUTEK_Montreal. http://t.co/vjBhxN9x1O #ISEA2015',\n",
       " '#Vegetarian #Vegan Video shows arsonist torching popular BK restaurant Strictly Vegetarian... http://t.co/kxpLYoM9RR #GoVegan #UniteBlue',\n",
       " \"#WakeUpFlorida... #Floridians more likely to be killed/injured by a #TrophyHunt killer's gun than by ISIS.  https://t.co/j5In8meXAJ\",\n",
       " '#WeLoveLA #NHLDucks Avalanche Defense: How They Match vs St. Louis Blues http://t.co/9v1RVCOMH2 #SportsRoadhouse',\n",
       " '#WisdomWed BONUS - 5 Minute Daily Habits that could really improve your life. How many do you already do? #lifehacks http://t.co/TBm9FQb8cW',\n",
       " '#World #News Qld police wrap Billy Gordon investigation: QUEENSLAND Police have wrapped up their investigation...  http://t.co/msgnNDxOeK',\n",
       " '#WorldNews\\n Fears over missing migrants in Med - BBC News - Home:\\nRescuers search for survivors after a boat carr.. http://t.co/iJoBZ3MZp0',\n",
       " \"#WorldNews\\n VIDEO: 'We're picking up bodies from water' - BBC News - Home:\\nRescuers are searching for hundreds of.. http://t.co/6hhmBdK9Yo\",\n",
       " '#WorldNews Fallen powerlines on G:link tram: UPDATE: FIRE crews have evacuated up to 30 passengers who were tr...  http://t.co/EYSVvzA7Qm',\n",
       " '#WorldNews Fallen powerlines on G:link tram: UPDATE: FIRE crews have evacuated up to 30 passengers who were tr... http://t.co/EYSVvzA7Qm',\n",
       " '#WorldWatchesFerguson #Florida @GovJayNixon @clairecmc How dare you turn our streets into a war zone -a war against CITIZENS?',\n",
       " '#YIAYplan Use my awesome collection of Amiibos to destroy all in my path.',\n",
       " '#aerospace #exec Plane debris is from missing MH370 - Part of the aircraft wing found on Reunion Island is from th... http://t.co/S2wm8lh7oO',\n",
       " '#anthrax #bioterrorism CDC To Carry Out Extensive Review of Lab Safety And Pathogen Handling Procedures http://t.co/bCLqpWFDOd',\n",
       " '#auspol Can you see the resemblance between ABBOTT &amp; Campbell both are loud and came in with a big BANG!! Out the same way;  Lets see !',\n",
       " \"#bigbrother #ch4 The X-37b's big brother revealed: Boeing bags $6.6m contract to design ... - Daily Mail http://t.co/0migwcmtJe\",\n",
       " '#bioterrorism Authorities allay #glanders fears ahead of Rio Olympic equestrian test event http://t.co/UotPNSQpz5 via @HorsetalkNZ',\n",
       " '#boy #mix Ultimate #preparedness library: http://t.co/O207JyaByz Prepare Yourself For Any Catastrophe. Over 10 http://t.co/cjCtb2oCxg',\n",
       " '#breaking #LA Refugio oil spill may have been costlier bigger than projected http://t.co/5ueCmcv2Pk',\n",
       " '#breaking #news Global precipitation measurement satellite captures 3-D image of Typhoon Soudelor - @NASAHurricane http://t.co/20DNcthr4D',\n",
       " '#breaking Firefighters battling blaze at east Cary condo building http://t.co/mIM8hH2ce6',\n",
       " '#breakingnews Rly tragedy in MP: Some live to recount horror: \\x89ÛÏWhen I saw coaches of my train plunging into wa... http://t.co/eYOrBmF3O3',\n",
       " '#charminar demolish if it in falling state anyway take engineers opinion\\n#Telangana',\n",
       " '#computers #gadgets Two giant cranes holding a bridge collapse into nearby homes http://t.co/UZIWgZRynY #slingnews',\n",
       " '#coppednews Haunting memories drawn by survivors http://t.co/Wx11d69gEZ',\n",
       " '#cum explosion!\\n\\n@begforcum \\n@allday_cumshots \\n@cumcovered \\n@sexycumshots \\n@Cumtown\\n@BJ_Nutt\\n@cumslut_2\\n@GirlsLoveCum http://t.co/2CX1yjjoZ9',\n",
       " '#dam #gms Olap #world pres: http://t.co/mIcjNPuhG0 How To Recognize A Hazardous Waste And The Multidimensional http://t.co/Vddi5ChKTP',\n",
       " '#dating #meet #sex Hot Teen Ass Exploded By Fat Cock http://t.co/X39JwSyrqR',\n",
       " '#deai #??? #??? #??? Suicide bomber kills 15 in Saudi security site mosque - Reuters  http://t.co/SqydkslFzp',\n",
       " '#download &amp; #watch Demolition Frog (2002) http://t.co/81nEizeknm #movie',\n",
       " '#dream #magic The #linden method lite version - #1 anxiety panic cure program: http://t.co/073izwX0lB THE LIND http://t.co/OkmLAGvkjv',\n",
       " '#earthquake (EMSC): MD 2.9 OFF COAST OF NORTHERN CALIFORNIA http://t.co/6AiMd1uway G http://t.co/9cgbJwmhII',\n",
       " '#entertainment Hollywood movie about trapped miners released in Chile: SANTIAGO Chile (AP) \\x89ÛÓ The Hollyw... http://t.co/C22ecVl4Hw #news',\n",
       " '#fitness Knee Damage Solution http://t.co/pUMbrNeBJE',\n",
       " '#flood #disaster Bengal floods: CM Mamata Banerjee blames DVC BJP claims state failed to use ... - Economic T... http://t.co/BOZlwr716Z',\n",
       " '#flood #disaster Burst Water Pipe Floods Apartments at NYCHA Senior Center - NY1: NY1Burst Water Pipe Floods A... http://t.co/w7SIIdujOH',\n",
       " '#flood #disaster Heavy rain causes flash flooding of streets in Manitou, Colorado Springs areas',\n",
       " '#floods #ukfloods - British trekkers rescued amid flash floods in Himalayas: A group of British tr... http://t.co/nsfzkfgZnj - #flooding',\n",
       " '#foodscare #offers2go #NestleIndia slips into loss after #Magginoodle #ban unsafe and hazardous for #humanconsumption',\n",
       " \"#forbes #europe China's Stock Market Crash: Are There Gems In The Rubble? http://t.co/C0SlAbBP7j\",\n",
       " \"#frontpage: #Bioterror lab faced secret sanctions. #RickPerry doesn't make the cut for @FoxNews #GOPDebate http://t.co/fZujg7sXJg @USATODAY\",\n",
       " '#fun #instagramers http://t.co/M3NJvvtYgN\\n\\nJeb Bush said earlier this week that not only does he want to obliterate Planned Parenthood bu\\x89Û_',\n",
       " \"#gamefeed Warcraft 3-Inspired Mode Likely Hitting Heroes of the Storm: Let's go back to the beginning. http://t.co/gx1kZ3C2Tc #VideoGame\",\n",
       " '#golf McIlroy fuels PGA speculation after video: Injured world number one Rory McIlroy fueled speculatio... http://t.co/dCyYJVmXHR #news',\n",
       " '#greatbritishbakeoff love to know where I was when all this nice weather happened! Did miss the heat wave ?? ??',\n",
       " \"#gunsense answer to #GFZ's: break law on the minuscule chance a mass murderer shows up. https://t.co/qEoPMCJbCz\",\n",
       " '#handbag #fashion #style http://t.co/hPd3SNM6oy Vintage Coach Purse Camera Bag Cross Body #9973\\n\\n$16.99 (0 Bids)\\n\\x89Û_ http://t.co/GSmdDmu9Pu',\n",
       " '#handbag #fashion #style http://t.co/iPXpI3me16 Authentic Louis Vuitton Pochette Bosphore Shoulder Cross Body Bag\\x89Û_ http://t.co/RV0Fk7q4Y5',\n",
       " '#health #Newyear The anniversary of the devastation wrought by the first military use of an atomic weapon come...  http://t.co/yuo7jDnijx',\n",
       " '#helpme what do I do? My friend has been ticketed by Police in Wayne County Michigan into never- sending poverty cycle. How do I help him?',\n",
       " \"#hiphop #news #indie Apollo Brown \\x89ÛÒ \\x89ÛÏDetonate\\x89Û\\x9d Ft. M.O.P. - &lt;a href='http://t.co/WnowfVCbMs... http://t.co/JxWOjxqndC\",\n",
       " '#hot  C-130 specially modified to land in a stadium and rescue hostages in Iran in 1980 http://t.co/6ioaBSl6I7 #prebreak #best',\n",
       " '#hot  C-130 specially modified to land in a stadium and rescue hostages in Iran in 1980 http://t.co/FLqxd3q5pY #prebreak #best',\n",
       " '#hot  C-130 specially modified to land in a stadium and rescue hostages in Iran in 1980 http://t.co/OnvD9D4NKg #prebreak #best',\n",
       " '#hot  C-130 specially modified to land in a stadium and rescue hostages in Iran in 1980 http://t.co/W0EXzAD5Gc #prebreak #best',\n",
       " '#hot  C-130 specially modified to land in a stadium and rescue hostages in Iran in 1980 http://t.co/fQWTSxLkrZ #prebreak #best',\n",
       " '#hot  C-130 specially modified to land in a stadium and rescue hostages in Iran in 1980 http://t.co/wpGvAyfkBQ #prebreak #best',\n",
       " '#hot  C-130 specially modified to land in a stadium and rescue hostages in Iran in 1980 http://t.co/zLco4UE5OQ #prebreak #best',\n",
       " '#hot  C-130 specially modified to land in a stadium and rescue hostages in Iran in 1980 http://t.co/zY3hpdJNwg #prebreak #best',\n",
       " '#hot  Funtenna: hijacking computers to send data as sound waves [Black Hat 2015] http://t.co/6AqrNanKFD #prebreak #best',\n",
       " '#hot  Funtenna: hijacking computers to send data as sound waves [Black Hat 2015] http://t.co/8JcYXhq1AZ #prebreak #best',\n",
       " '#hot  Funtenna: hijacking computers to send data as sound waves [Black Hat 2015] http://t.co/G62txymzBv #prebreak #best',\n",
       " '#hot  Funtenna: hijacking computers to send data as sound waves [Black Hat 2015] http://t.co/J2aQs5loxu #prebreak #best',\n",
       " '#hot  Funtenna: hijacking computers to send data as sound waves [Black Hat 2015] http://t.co/J5onxFwLAo #prebreak #best',\n",
       " '#hot  Funtenna: hijacking computers to send data as sound waves [Black Hat 2015] http://t.co/MIs0RjxuIr #prebreak #best',\n",
       " '#hot  Funtenna: hijacking computers to send data as sound waves [Black Hat 2015] http://t.co/UMgD92wLjA #prebreak #best',\n",
       " '#hot  Funtenna: hijacking computers to send data as sound waves [Black Hat 2015] http://t.co/aAtt5aMnmD #prebreak #best',\n",
       " '#hot  Funtenna: hijacking computers to send data as sound waves [Black Hat 2015] http://t.co/cOMuiOk3mP #prebreak #best',\n",
       " '#hot  Funtenna: hijacking computers to send data as sound waves [Black Hat 2015] http://t.co/cx6auPneMu #prebreak #best',\n",
       " '#hot  Funtenna: hijacking computers to send data as sound waves [Black Hat 2015] http://t.co/gUJNPLJVvt #prebreak #best',\n",
       " '#hot  Funtenna: hijacking computers to send data as sound waves [Black Hat 2015] http://t.co/gexHzU1VK8 #prebreak #best',\n",
       " '#hot  Funtenna: hijacking computers to send data as sound waves [Black Hat 2015] http://t.co/nQiObcZKrT #prebreak #best',\n",
       " '#hot  Funtenna: hijacking computers to send data as sound waves [Black Hat 2015] http://t.co/qj3PVgaVN7 #prebreak #best',\n",
       " '#hot  Funtenna: hijacking computers to send data as sound waves [Black Hat 2015] http://t.co/s4PNIhJQX7 #prebreak #best',\n",
       " '#hot  Funtenna: hijacking computers to send data as sound waves [Black Hat 2015] http://t.co/wvTPuRYx63 #prebreak #best',\n",
       " '#hot  Funtenna: hijacking computers to send data as sound waves [Black Hat 2015] http://t.co/xV3D9bPjHi #prebreak #best',\n",
       " \"#hot  Reddit's new content policy goes into effect many horrible subreddits banned or quarantined http://t.co/HqdCZzdmbN #prebreak #best\",\n",
       " \"#hot  Reddit's new content policy goes into effect many horrible subreddits banned or quarantined http://t.co/VhrLsWvZql #prebreak #best\",\n",
       " \"#hot  Reddit's new content policy goes into effect many horrible subreddits banned or quarantined http://t.co/algtcN8baf #prebreak #best\",\n",
       " \"#hot  Reddit's new content policy goes into effect many horrible subreddits banned or quarantined http://t.co/nGKrZPza45 #prebreak #best\",\n",
       " \"#hot  Reddit's new content policy goes into effect many horrible subreddits banned or quarantined http://t.co/uiSNqIu3iF #prebreak #best\",\n",
       " '#hot#teen#nsfw#porn#milf: Oiled Up Ass Hole Is Destroyed With King Size Cock Closeup Sex Clip http://t.co/faoGxkwdpG',\n",
       " '#ika #tuning Soup #diet recipes | fat burning soup recipes: http://t.co/8r5vpAoo5z Fat Burning Soup Diet Recip http://t.co/JvcxB75DrJ',\n",
       " '#iphone #twist Ultimate #preparedness library: http://t.co/ksgmY0D0Mx Prepare Yourself For Any Catastrophe. Ov http://t.co/MZK0PFogI7',\n",
       " '#kick #hurricane Seriously #simple websites: http://t.co/x8W7tF6FHg Looking For A Seriously Simple Program To http://t.co/9NZ9zFM93i',\n",
       " '#landslide while on a trip in #skardu https://t.co/nqNWkTRhsA',\n",
       " '#love #food #fun Malaysian Prime Minister Najib Razak confirmed that the aircraft debris found on RÌ©union Isla...  http://t.co/FK1L4noziG',\n",
       " '#nar #phuket Ultimate #preparedness library: http://t.co/qYAeNDvDGC Prepare Yourself For Any Catastrophe. Over http://t.co/3Zp6Ahnsxn',\n",
       " '#news #crimes Police ID victim in fatal crash that closed I-65 near Franklin: One person is d... http://t.co/9h0ym9OFsv #justice #courts',\n",
       " '#news #science London warship exploded in 1665 because sailors were recycling artillery cartridges... http://t.co/r4WGXrA59M #life #tech',\n",
       " '#news Britons rescued amid Himalaya floods http://t.co/kEPznhXHXd',\n",
       " \"#news Cramer: Iger's 3 words that wrecked Disney's stock http://t.co/SF5JdNvdw9 #til_now #CNBC\",\n",
       " '#news Madhya Pradesh Train Derailment: Village Youth Saved Many Lives http://t.co/fcTrAWJcYL #til_now #NDTV',\n",
       " \"#news Politifiact: Harry Reid's '30 Percent of Women Served' Planned Parenthood Claim Is a 'Pants on Fire' Lie... http://t.co/bMSeDZOfSV\",\n",
       " '#news Twelve feared killed in Pakistani air ambulance helicopter crash http://t.co/bFeS5tWBzt #til_now #DNA',\n",
       " '#novalismi Joseph Mallord William Turner - Shade and Darkness - the Evening of the Deluge 1843 (Clicca sul titolo... http://t.co/458DtR3ulx',\n",
       " '#nowplaying Sinking Fast - Now or Never on North East Unsigned Radio listen at http://t.co/QymAlttvZp',\n",
       " '#np Avenged Sevenfold - Hail To The King',\n",
       " '#np agalloch - the desolation song',\n",
       " '#pakistan#news# NANKANA SAHIB City News: Electrocuted From Our Correspondent NANKANA SAHIB: A youth was electr... http://t.co/WERK9qibVV',\n",
       " '#pakistan#news# PAKPATTAN City News: Man electrocuted From Our Correspondent PAKPATTAN: A man was electrocuted... http://t.co/frpbNhVPyI',\n",
       " '#picthis http://t.co/br7gmMh5Ek \\x89ÛÓ And I\\x89Ûªm off! Thank you so much #Toronto. It has been such a whirlwind of amazingness. So glad I finall\\x89Û_',\n",
       " '#poster #ergo Rotator #cuff injury recovery kit: http://t.co/zj3ODGQHyp Super High Converting Rotator Cuff Inj http://t.co/VZhTiBe4jh',\n",
       " '#psd #special Olap #world pres: http://t.co/9xO9mKQqsi How To Recognize A Hazardous Waste And The Multidimensi http://t.co/BP03eAFEWR',\n",
       " \"#pt Cross-sectarian protest. Powerful Shia cleric says militias must withdraw:'ur fightin ISIS but we wont forget damage uve done to ur ppl'\",\n",
       " '#quote Never let your problems ruin your faith.',\n",
       " \"#raining #flooding #Florida #TampaBay #Tampa 18 or 19 days. I've lost count \",\n",
       " '#refugees of #nuclear disaster in western #Japan will be beyond 500 thousand at least. #AFP #guardian #WPS #NYTimes',\n",
       " '#reno Truck trailer catches fire in Reno http://t.co/k5FIJaNkJb',\n",
       " '#retweet Cameroon repatriating about 12000 Nigerian refugees due to Boko Haram http://t.co/wvVgmejA7l',\n",
       " '#reuters Twelve feared killed in Pakistani air ambulance helicopter crash http://t.co/ShzPyIQok5',\n",
       " '#saudiarabia 13 confirmed dead as suicide bomber attacks Saudi Arabian mosque - The I... http://t.co/LwAnE9vupg - http://t.co/CpQguFZB28',\n",
       " '#science Now that a piece of wreckage from flight MH370 has been confirmed on RÌ©union Island is it possible t...  http://t.co/Z2vDGIyOwf',\n",
       " '#science Now that a piece of wreckage from flight MH370 has been confirmed on RÌ©union Island is it possible t...  http://t.co/qNVXJ2pAlJ',\n",
       " '#science Now that a piece of wreckage from flight MH370 has been confirmed on RÌ©union Island is it possible t...  http://t.co/uqva3dfbCA',\n",
       " '#sing #tsunami Beginners #computer tutorial.: http://t.co/ia44ncZLif Everyone Wants To Learn To Build A Pc. Re http://t.co/oGTuV1pLhT',\n",
       " '#sing #tsunami Beginners #computer tutorial.: http://t.co/ukQYbhxMQI Everyone Wants To Learn To Build A Pc. Re http://t.co/iDWS2ZgYsa',\n",
       " '#socialmedia news - New Facebook Page Features Seek to Help Personalize the Customer Experience http://t.co/nbizaTlsmV',\n",
       " '#spark #song Ultimate #preparedness library: http://t.co/VsGqoLr32g Prepare Yourself For Any Catastrophe. Over http://t.co/p7UhcB13Qx',\n",
       " '#stlouis #caraccidentlawyer Speeding Among Top Causes of Teen Accidents https://t.co/k4zoMOF319 https://t.co/S2kXVM0cBA Car Accident tee\\x89Û_',\n",
       " '#stormchase Violent Record Breaking EF-5 El Reno Oklahoma Tornado Nearly Runs Over ... - http://t.co/3SICroAaNz http://t.co/I27Oa0HISp',\n",
       " '#tech Data Overload: The Growing Demand for Context and Structure: In a world inundated with information... http://t.co/s0ctCQJvjX #news',\n",
       " '#thunder outside my house this afternoon #gawx ??????????????????',\n",
       " '#tubestrike derailed you? Our #robertwelch cutlery offers will get you back on track http://t.co/bQ8Kyi7Gng http://t.co/GNZwxQktAm',\n",
       " '#usNWSgov Severe Weather Statement issued August 05 at 10:38PM EDT by NWS: ...THE SEVERE THUNDERSTORM WARNING ... http://t.co/7HuEN4rWrn',\n",
       " '#usNWSgov Severe Weather Statement issued August 05 at 10:38PM EDT by NWS: ...THE SEVERE THUNDERSTORM WARNING ... http://t.co/EpzgG4uqJI',\n",
       " '#usNWSgov Special Weather Statement issued August 05 at 10:40PM EDT by NWS: ...STRONG THUNDERSTORM WILL IMPACT... http://t.co/TQ1rUQD4LG',\n",
       " '#vaxshill 2 deaths from measles complications in 10 yrs everyone looses their shit. 8 dead from Legionnaires in a month &amp; crickets',\n",
       " \"#veterans VET Act would ensure every military veteran's access to highest level of emergency care services: Proper treatmen...  #followme\",\n",
       " '#volleyball Attack II Volleyball Training Machine - Sets Simulation - http://t.co/dCDeCFv934 http://t.co/dWBC1dUvdk',\n",
       " '#weed news How marijuana is making California drought worse - Christian Science Monitor http://t.co/2SZ7oKjRXi',\n",
       " '#what #tribal Olap #world pres: http://t.co/Jw6FNnsSxT How To Recognize A Hazardous Waste And The Multidimensi http://t.co/4zAzTB19qE',\n",
       " '#wired #business Reddit Will Now Quarantine Offensive Content http://t.co/ZhzVprZbgq',\n",
       " '#world Fears over missing migrants in Med: Rescuers search for survivors after a boat carrying as many a... http://t.co/6DS67XAI5e #news',\n",
       " '#world FedEx no longer to transport bioterror germs in wake of anthrax lab mishaps  http://t.co/5zDbTktwW7',\n",
       " '#world FedEx no longer to transport bioterror germs in wake of anthrax lab mishaps  http://t.co/wvExJjRG6E',\n",
       " '$1 million bail for man accused of #shooting at Fife #police - Aug 5 @ 8:16 PM ET http://t.co/hu5CXqnoBf',\n",
       " '$10M SETTLEMENT attained using our illustrations to help jurors understand the true devastation of internal injuries: http://t.co/2BaXg1WdPP',\n",
       " \"&amp; on the rare occasion I do go out I'm complete obliterated the next day. Throwing up and passing out. My body is accustomed to alcohol\",\n",
       " \"&gt; Bin Laden family plane crashed after 'avoiding microlight and landing too far down runway... http://t.co/Tu9cgLmgVR #rochdale #heywood\",\n",
       " '&gt;&gt; $15 Aftershock : Protect Yourself and Profit in the Next Global Financial... ##book http://t.co/f6ntUc734Z\\n@esquireattire',\n",
       " '&gt;&gt; @GidiExclusixe Shock In Aba As Woman Delivers \\x89Û÷Faceless\\x89Ûª Baby [Photo]: There was pandemonium... http://t.co/RGTYZbNKeo #BennyCapricon',\n",
       " '&gt;As soon as maintenance ends everyone floods the servers\\n&gt;Servers destroyed by extreme load\\n&gt;Maintenance starts anew',\n",
       " '&lt; 25 Dead In Kuwait Mosque Suicide Bombing Claimed By ISIS Offshoot on http://t.co/eTITgPSrUN',\n",
       " '&lt; Suicide Bombing Of European Union Car Kills At Least Three In Kabul on http://t.co/o6aRmcgVbS',\n",
       " '&lt;&lt; his lip as he sunk into the bed his arms crossed behind his head as he watched his Captain do a number on his body. @ResoluteShield',\n",
       " '&lt;meltdown of proportions commences I manage to calm myself long enough to turn the waters to hot and wait for the steam to cloud my vision-',\n",
       " \"' no pharrell  only YOU can prevent forest fires ' ??\",\n",
       " \"'...As of right now I'm reopening the X-Files. That's what they fear the most.' #TheXFiles201Days\",\n",
       " \"'13 M. Chapoutier Crozes Hermitage so much purple violets slate crushed gravel white pepper. Yum #france #wine #DC http://t.co/skvWN38HZ7\",\n",
       " \"'60 all out? What!' - World reacts to Aussie collapse http://t.co/I6zQlk2Puz\",\n",
       " \"'@CatoInstitute: The causes of federal failure are deeply structural and they will not be easily solved: http://t.co/H2XcaX4jbU'\",\n",
       " \"'@Ma3Route: Haha jam imeshika hapa garden city mats bumper to bumper with AAR ambulance.we decide to chill via @BonnieG434' piga siren kijan\",\n",
       " \"'@NASASolarSystem: Jupiter's Great Red Spot is a violent storm larger than the entire Earth. http://t.co/2lBTshXI3c http://t.co/0jmKdTcYmJ'\",\n",
       " \"'@PhelimKine: #Myanmar 's Displaced #Rohingya at #Sittwe point of no return http://t.co/8gO68KjE4b  http://t.co/0KrW1zYaHM'\",\n",
       " \"'@jorrynja: 6. @ your bf/gf/crush ??' @Ter_ell ??\",\n",
       " \"'A Nightmare On Elm Street' Is Getting Remade... Again - http://t.co/HvwkJQXXyT\",\n",
       " \"'A slamming door and a lesson learned... I let another lover crash and burn'??\",\n",
       " \"'Afterwards I had to be alone for an hour to savour and prolong the almost physical intensity of the feelings that deluged me'. Y sigue:\",\n",
       " \"'Amateur Night' Actress Reprises Role for 'Siren' - HorrorMovies.ca #horror http://t.co/W9Cd6OFfcj\",\n",
       " \"'American Weapons and Support Are Fueling a Bloody Air War in Yemen' http://t.co/7aGeAkVn2x\",\n",
       " \"'Among other main factors behind pedestrian fatalities are people failing to yield to a car' http://t.co/dgUL7FfJt2\",\n",
       " \"'An 18-wheeler came along and struck the fire truck spinning it around 180 degrees and causing it to roll over' http://t.co/kmPfhGlhoo\",\n",
       " \"'Anyway' the old lady went on 'I have something to ask of you - and you alone.' THE COMING TSUNAMI http://t.co/tYeWZf3hqA\",\n",
       " \"'Become another casualty of society'\",\n",
       " \"'Biggest lead hazard in New England history.' Yeah let's nail these guys. https://t.co/xzvmzQuS0x\",\n",
       " \"'Blaaaaaaa' he said as he sunk his face into your stomach making it vibrate @ResoluteVanity\",\n",
       " \"'Bloody 'ell! Let it burn!' #RubyBot\",\n",
       " \"'But right now you're only annoyed by them. If you actually hung out with them you'd see that they mean no harm.' @AudaciousSpunk\",\n",
       " \"'But time began at last to obliterate the freshness of my alarm;...' http://t.co/ciLO9pMlEb\",\n",
       " \"'By accident' they knew what was gon happen https://t.co/Ysxun5vCeh\",\n",
       " \"'By replacing fear of the unknown with curiosity we open ourselves up to\\x89Û_ https://t.co/qRHng6kJ1C\",\n",
       " \"'CALIFORNIA IS BURNING:' Gov. Jerry Brown told reporters at a press conference that California is experiencing... http://t.co/arzeMSR7FQ\",\n",
       " \"'Calgarians stunned by storm insurance companies busy handling calls' #abstorm http://t.co/fkFa9vSssZ\",\n",
       " \"'California's Burning:' Gov. on Drought Wildfires http://t.co/mkqSVp8E0G\",\n",
       " \"'California: Spring Oil Spill Estimate Grows ' by THE ASSOCIATED PRESS via NYT http://t.co/6Cx46E7QB7\",\n",
       " \"'California: Spring Oil Spill Estimate Grows ' by THE ASSOCIATED PRESS via NYT http://t.co/zdpa4DBtsU\",\n",
       " \"'Car vs motorcycle in Harwich Port' HARWICH PORT \\x89ÛÒ A car and motorcycle collided around 5:30 p.m. The crash happen\\x89Û_ http://t.co/ljxCE1QW2p\",\n",
       " \"'Cause you play me like a symphony play me till your fingers bleed. I'm your greatest masterpiece. You ruin me??\",\n",
       " \"'Choose to be happy. Fire truck the rest.' http://t.co/tAmRCWfYgd ????? Review of Kick Push by @JayMcLeanAuthor\",\n",
       " \"'Climate change could be catastrophic -- but it does have some benefits.' Really @weathernetwork?!?! http://t.co/IBx3cragtt\",\n",
       " \"'Congress' should be renamed Italian Goonda Party. They are a motley crowd of hooligans and selfavowed crooks determined to derail democracy\",\n",
       " \"'Cooler than Freddie Jackson sippin' a milkshake in a snowstorm'\",\n",
       " \"'Crash Test' Trailer: Paul Scheer &amp; Rob Huebel's Comedy Special Recorded on a ... http://t.co/flSa8mlDSn\",\n",
       " \"'Dangerous' property in downtown Phoenix demolished  http://t.co/hiBDw7d7ja\",\n",
       " \"'Drowning' - Acrylic 08.05.15 https://t.co/X17fUBQBGG\",\n",
       " \"'Education is the most powerful weapon which you can use to change the world.' Nelson #Mandela #quote http://t.co/QR1L2JYUEZ\",\n",
       " \"'Er indoors will be devastated. RIP Arfur. #GeorgeCole\",\n",
       " \"'Every kingdom divided against itself is headed for destruction and no city or house divided against itself will stand.'\\nMatthew 12:32\",\n",
       " \"'Fatal crash reported on Johns Island' http://t.co/d2i9bL89Zo\",\n",
       " \"'Food crematoria' in Russia provoke outrage amid crisis famine memories\\nhttp://t.co/FelR5a1hBP\",\n",
       " \"'Food crematoria' provoke outrage amid crisis famine memories... http://t.co/REsxAvgpyJ\",\n",
       " \"'Food crematoria' provoke outrage amid crisis famine memories... http://t.co/fABVlvN5MS\",\n",
       " \"'Go too Ibiza Pop ah Pill Get DRUNK &amp; Fall off a Cliff'. (Real Talk) @DannyJohnJules @Spencer_Fearon @ChristieLinford\",\n",
       " \"'Gunman who opened fire at Tennessee movie theater killed by police'  Anyone suspect suicide-by-cop?\",\n",
       " \"'Hey bitch blow me' uh no. Stick your dick in some water then an outlet so u get electrocuted..\",\n",
       " \"'How many men would a human hew if a human could hew men?'\\n\\n-popular tongue twister among woodchucks\",\n",
       " \"'I came to kill Indians...for FUN': Video of smirking and remorseless Pakistani killer shows him boasting. http://t.co/FPjLwOXKlg\",\n",
       " \"'I can't have kids cuz I got in a bicycle accident &amp; split my testicles. it's impossible for me to have kids' MICHAEL YOU ARE THE FATHER\",\n",
       " \"'I did another one I did another one. You still ain't done shit about the other one.' Nigga body bagging Meek.\",\n",
       " \"'I eat because it makes my mouth explode with joy and my soul rise upwards.' ~ http://t.co/mOdM8X1Ot9 http://t.co/oSsC7Q12iR\",\n",
       " \"'I know a dill pickle when I taste one' -me\",\n",
       " \"'I may have gotten a little too exited over my (home made) lava lamp.':http://t.co/724Gq5ebqZ http://t.co/H01j9PIrIe\",\n",
       " \"'I tried to save Mido Macia': One of the murder accused has testified he tried to save Mido Macia\\x89Ûªs life. http://t.co/vxVfAEEY0q\",\n",
       " \"'I'm a cyclone passion overblown' https://t.co/MmZgpHNKNP\",\n",
       " \"'I'm sinking down in the darkest dream so deep so cold this pain inside of me my love for you is more dan I can bear' Jota Esse??\",\n",
       " \"'I'm there!' Bride &amp; Groom on mountain cliff edge. Ha Ha just kidding. I WILL NOT EVER be there. Ha Ha - http://t.co/Io9ry1akON\",\n",
       " \"'If I'd have had a long coat to hand I'd have worn it. The certainty of armageddon bears a sense of occasion.'\",\n",
       " \"'If a truckload of soldiers will be blown up nobody panics but when one little lion dies everyone loses their mind'\\nhttp://t.co/wjNTaOkdHf\",\n",
       " \"'If plan A does not work don't panic bc there are 25 more letters.' I like this but feel like I may be running out of letters- thoughts?\",\n",
       " \"'If you are going to achieve excellence in big things you develop the habit in little matters....' dont know the author\",\n",
       " \"'If you go on with this nuclear arms race all you are going to do is make the rubble bounce.' ? Winston Churchill\",\n",
       " \"'If you looking for my niggas you can follow the sirens.' ????\",\n",
       " \"'Invading Iraq was a catastrophic mistake'.\\n\\nDiplomacy needs to replace constant threat of war by US and Israel:\\n\\nhttp://t.co/yqjpn3qUUX\",\n",
       " \"'It hasn't collapsed because the Greek people are still being played for as fools by Tsipras he cost\\x89Û_' \\x89ÛÓ WallyBaiter http://t.co/gbRNuLp3fH\",\n",
       " \"'It looks like a mudslide!' And #GBBO is back with a belter!\",\n",
       " \"'It looks like a mudslide' 'It's like chewing on rubber' #GBBO ??????\",\n",
       " \"'It looks like a mudslide' poor thing! ?? #greatbritishbakeoff\",\n",
       " \"'It's an eerie way of revealing both our history and our possible fate.' #CADrought #LakeIsabella by @jpanzar http://t.co/pvExbIiqSK\",\n",
       " \"'Jet fuel cant melt steel'\\n'The structural failure is illogical'\\n'The second plane crashing into the building is fake'\\n'It was a bomb'\",\n",
       " \"'Kessler Syndrome' is the name for the catastrophic exponential proliferation of Space debris and destruction of satellites. #GravityMovie\",\n",
       " \"'Left hand side of a diamond is a graveyard shift have to attack and defend'\\nThe right handside no have to do that too you fucking idiot?\",\n",
       " \"'Legionnaires' Disease: What's Being Done to Stop Deadly Outbreak' http://t.co/FftOKd0Vts #????_?????\",\n",
       " \"'Mages of Fairy Tail.. Specialize in property damage!' - Natsu Dragneel\",\n",
       " \"'McFadden Reportedly to Test Hamstring Thursday' via @TeamStream http://t.co/jWq4KvJH2j\",\n",
       " \"'Money can't buy happiness' is just a lie we tell poor people to keep them from rioting.\",\n",
       " \"'Motordom' lobbied to change our language around traffic fatalities. We need to go back to the future #VisionZero  https://t.co/cAvb7pgEpv\",\n",
       " \"'My Fifty Online Dates and why I'm still single' by Michael Windstorm $2.99 Amazon http://t.co/5KohO39oJE    #kindle  #datingtips #goodreads\",\n",
       " \"'My Fifty Online Dates and why I'm still single' by Michael Windstorm $2.99 B&amp;N http://t.co/dde8GXaQrp   #nook #books #TheBachelorette\",\n",
       " \"'NO LENDER FEES FOR VETERANS OR FIRST RESPONDERS (PAST AND PRESENT)' on @LinkedIn https://t.co/9pmBTxmoAL\",\n",
       " \"'Nobody remembers who came in second.' Charles Schulz\",\n",
       " \"'Nuclear reactor is like a woman. You just have to read the manual and press the right button.'\",\n",
       " \"'Planted 390 years ago' it was moved to U-S. This Bonsai Survived Hiroshima But Its Story Was Nearly Lost http://t.co/jID4RO34gb via @NatGeo\",\n",
       " \"'Redskins WR Roberts Belly-Bombed ' via @TeamStream http://t.co/GbcvVEvDTY\",\n",
       " \"'Refuse to let my life be reduced to rubble. When the shit keeps piling up get a shovel.' @ExpireHC\",\n",
       " \"'Remembering that you are going to die is the best way I know to avoid the trap of thinking you have something to lose.' \\x89ÛÒ Steve Jobs\",\n",
       " \"'Save me from my self don't let me drown'.\",\n",
       " \"'Seeing that there's a video of every fatality on Mileena makes me sad.'\",\n",
       " \"'Seismic' Apple TV service to stream 25 channels across all d... http://t.co/zqMtrBKaS0 | https://t.co/YEqq3BZX3g http://t.co/kmVrZaSXY4\",\n",
       " \"'She tasted like a feast after a famine. And he was starving.' TRUSTING JACK @writes4coffee http://t.co/sTo58qa94c #IARTG #RWA #tw4rw #RRBC\",\n",
       " \"'Show Me a Hero': TV Review http://t.co/KaCCPk85wf http://t.co/NniXodHIGc\",\n",
       " \"'Since1970the 2 biggest depreciations in CAD:USD in yr b4federal election coincide w/landslide win for opposition' http://t.co/wgqKXmby3B\",\n",
       " \"'Snowstorm' 36'x36' oil on canvas (2009) http://t.co/RCZAlRU05o #art #painting\",\n",
       " \"'So again make sure to evacuate past the fire doors. Any questions? Yes?'\\n'Why would we open the doors to the fire!!?!??!?'\\n\\nI...I..I cant\",\n",
       " \"'Some hearths they burn like a wildfire' https://t.co/of3td6DGLb by Bees Knees\",\n",
       " \"'Sometimes God uses sorrowful tragedy to set the stage for glorious redemption.' -David Platt Run for\\x89Û_ https://t.co/86V81dv00E\",\n",
       " \"'Suicide bombing at [location named]...' #premonitions http://t.co/iIkSsJGBDn\",\n",
       " \"'The Big Ten has their annual football media day but before we get into that here's some Cyclone hoops recruiting nuggets'\",\n",
       " \"'The Reagan Administration had arranged for Israeli weapons to be sent to the Guatemalan Army  http://t.co/4fYNQ1hWWb\",\n",
       " \"'The Terrorist Tried to Get Out of the Car; I Shot Him' http://t.co/VSoxKbt6Nq\",\n",
       " \"'The cyclone derives its powers from a calm center. So does a person.' - Norman Vincent Peale\",\n",
       " \"'The day you learn the importance of emergency exits is the day your heartbeat stops sounding familiar.'\",\n",
       " \"'The first man gets the oyster the second man gets the shell.' Andrew Carnegie\",\n",
       " \"'The harder the conflict the more glorious the triumph.' Thomas Paine\",\n",
       " \"'The man who can drive himself further once the effort gets painful is the man who will win.' \\nRoger Bannister\",\n",
       " \"'The only thing that stands between you and your dream is the will to try and the belief that it is actually possible.' - Joel Brown\",\n",
       " \"'The way you move is like a full on rainstorm and I'm a house of cards'\",\n",
       " \"'There is no victory at bargain basement prices.' Dwight David Eisenhower\",\n",
       " \"'There was a small earthquake in LA but don't worry Emily Rossum is fine' #difficultpeople is great\",\n",
       " \"'There was a small earthquake in LA but don't worry Emmy Rossum is fine'\",\n",
       " \"'Three #people were #killed when a severe #rainstorm in the #Italian #Alps caused a #landslide' http://t.co/hAXJ6Go2ac\",\n",
       " \"'Trust us to get rescued by the dopey ones!' Val is hilarious shame she's probably going to die #emmerdale\",\n",
       " \"'Tube strike live: Latest travel updates as London engulfed in chaos' &lt;- genuine baffling Telegraph headline\",\n",
       " \"'Up to 40% of businesses affected by a natural or man-made disaster never reopen'\\nhttp://t.co/35JyAp0ul9\",\n",
       " \"'Up' House Saved From Demolition - http://t.co/4CPNBBZkzg Will be moved to Orcas Island Washington.\",\n",
       " \"'Use our roads wisely and prevent the carnage from continuing...let us have no fatalities over this holiday period..'\\n#GGIndependencMessage\",\n",
       " \"'We Can Help' Says Denver Firefighter Working To Curb First Responder Suicide http://t.co/aVV6hPNpch\",\n",
       " \"'We are now prepared to obliterate more rapidly and completely every productive enterprise the Japanese have above ground in any city.'\",\n",
       " \"'Well guess what young girls. You aren't damsels in distress. You aren't hostages to the words of your peers.' http://t.co/5XRC0a76vD\",\n",
       " \"'We\\x89Ûªre blown away by this extension. Nothing we\\x89Ûªve seen has as many options as this one.' https://t.co/0YzgW9ZbHR  https://t.co/rHtaqjvQn2\",\n",
       " \"'What we perceive burns faintly like a sputtering candle before the vast desolate glacier of Eternity'\\n\\n-Sister Gyrsi\",\n",
       " \"'When you attack women's health you attack America's health.' Hillary Clinton shows how to #StandwithPP http://t.co/HXdG254dHO\",\n",
       " \"'When you walk away\\nNothing more to say\\nSee the lightning in your eyes\\nSee \\x89Û÷em running for their lives'\",\n",
       " \"'Why am I being constantly electrocuted?' 'I don't know. Are you by chance standing next to a cactus?'#Borderlands #Borderlands2 #OOCVG #FTW\",\n",
       " \"'Without an ally near you can't use this skill.' How did you get hired? Really cause it's making every Riot staff member look incompetent.\",\n",
       " \"'You can only be rescued from where you actually are and not from where you pretend you are.' Giorgio Hiatt\",\n",
       " \"'Your body will heal the bags under your eyes will go away you\\x89Ûªll be so happy you\\x89Ûªll smile and really...' http://t.co/WuKcAlNQms\",\n",
       " \"'Your love will surely come find us\\nLike blazing wild fires singing Your name'\",\n",
       " \"'[+54 -9] How do people not know who Kendall Jenner is? She has 6 times the Instagram followers of GD' SCREAMING LMAO\",\n",
       " \"'cause right now I can read too good don't send me no letters no. not unless you're gonna mail them from desolation row ~\",\n",
       " \"'i never understood guys who wanted to run into burning buildings.'\\n'you chase murderers.'\\n'not if they're on fire.'\",\n",
       " \"'i'm a Gemini' *children screaming buildings burning police sirens in the distance*\",\n",
       " \"'if you can't summon the flames directly from hell store bought is fine'-me \\nmom-*dies*\",\n",
       " \"'imagine an entire aisle dedicated to making people look like serbian refugees.' - director of whole foods clothing section\",\n",
       " \"'the fallacy is it is up to the steam roller. It's up to the object whether it will be flattened or not.' #RobertCalifornia #thereisonlysex\",\n",
       " \"'the third generation atomic bombed survivor' Photo exhibition 11:00 to 18:00 8/6. \\n#?? #Hiroshima http://t.co/gVAipmLSl0\",\n",
       " \"'wHeRE's mY aRsOnISt aT???'\",\n",
       " \"'you can\\x89Ûªt research collective memory' The 1st Rule of writing diverse should be don't touch another group's tragedy https://t.co/PHFoEozYPS\",\n",
       " '(  the abomination that maketh desolate: The antichrist desecrates the Jerusalem temple - Dan 9:27 Matt 24:1  )',\n",
       " '(#LosDelSonido) Obama Declares Disaster for Typhoon-Devastated Saipan: Obama signs disaster declaration for Northern Ma...  (#IvanBerroa)',\n",
       " '((OFFICIAL VID)) #DoubleCups &gt;&gt; https://t.co/lfKMTZaEkk &gt;&gt; @TrubGME Prod @THISIZBWRIGHT &gt;&gt; #ARMAGEDDON',\n",
       " \"(?EudryLantiqua?) Hollywood Movie About Trapped Miners Released in Chile: 'The 33' Holly... http://t.co/us1DMdXZVb (?EudryLantiqua?)\",\n",
       " '(AR)  Severe Thunderstorm Warning issued August 05 at 9:12PM CDT until August 05 at 9:45PM CDT by NWS http://t.co/AYfdjeB7Hy #arwx',\n",
       " '(Also I dont think sewing thought a leather belt would work out that well lol)',\n",
       " '(OFFICIAL VID) &gt; #DoubleCups &gt;&gt; https://t.co/lfKMTZaEkk &gt;&gt; @TrubGME Prod @THISIZBWRIGHT &gt;&gt; #ARMAGEDDON                 .',\n",
       " '(OK)  Severe Thunderstorm Warning issued August 05 at 8:29PM CDT until August 05 at 9:15PM CDT by NWS http://t.co/O8X4M5eR6b #okwx',\n",
       " '(SJ GIST): 148 Houses Farm Produce Destroy... http://t.co/dkrGS2AWEX #StreetjamzDotNet | https://t.co/mR9KcGpIwM',\n",
       " \"(To Luka) 'They should all die! All of them! Everything annihilated!' - Alois Trancy -\",\n",
       " '* Screams *',\n",
       " '**Let - Me - Be - Your - Hot - Blazing - Fantasy**  \\n#escorts #gfe #DUBAI http://t.co/N6AhgfMUDt',\n",
       " '**OFFICIAL VID** #TheReal &gt;&gt;&gt; https://t.co/4i0Rjc9RQU &gt;&gt;&gt; @TrubGME &gt;&gt;&gt; #ARMAGEDDON Comin Soon!!',\n",
       " '*CUE THE JARIANA STANS SCREAMING',\n",
       " '*Jumps off of a cliff while drinking tea*\\n\\nThis is how British people fall off cliffs.',\n",
       " '*NEW* Snap On Tools Black baseball Hat/Cap Silver/Gray Embroidered S Logo Flames - Full re\\x89Û_ http://t.co/U3WAO8asFg http://t.co/hC6hZs4wSI',\n",
       " '*NEW* Snap On Tools Black baseball Hat/Cap Silver/Gray Embroidered S Logo Flames - Full re\\x89Û_ http://t.co/hTqVF44UQs http://t.co/PvXeLxCJeu',\n",
       " '*NEW* Snap On Tools Black baseball Hat/Cap Silver/Gray Embroidered S Logo Flames - Full re\\x89Û_ http://t.co/mO7DbBdFVR http://t.co/0ScNWe8XbV',\n",
       " '*New!* Stretcher in 5 min https://t.co/q5MDsNbCMh (by FUJIWARA Shunichiro 2015-08-05) [Technology]',\n",
       " '*books a flight to Burma when country is enduring political unrest and a natural disaster* no wonder it was so cheap ay',\n",
       " '*looks outside at the windstorm* niiiice',\n",
       " '*nominates self but @_ohhsehuns wins by a landslide* https://t.co/rCvDrwoWvO',\n",
       " '*screams in 25 different languages*',\n",
       " '*screams internally*',\n",
       " '*screams* http://t.co/PU7C4Hhbxj',\n",
       " '*se pone a cantar crying lightning*',\n",
       " '*to Luka* They should all die! All of them! Everything annihilated! - Alois Trancy',\n",
       " \"*wants to make tweet about how much I dislike todays femnism movement but doesn't want to be screamed at' http://t.co/R7pVTSdUmA\",\n",
       " \"+ DID YOU SAY TO HIM!!?!?!?!' and phil actually collapsed on the gravel sobbing endlessly with a crowd watching him confused angry mad+\",\n",
       " \"+ Nicole Fletcher one of a victim of crashed airplane few times ago. \\n\\nThe accident left a little bit trauma for her. Although she's \\n\\n+\",\n",
       " '-  Pandemonium In Aba As Woman Delivers Baby Without Face http://t.co/36GccAPaak http://t.co/nqjZS6wkuN',\n",
       " '-- small bag from the bottom the wounded hero shakes it. A Senzu Bean falls from it. Gohan\\x89Ûªs surprised. Shakes the pouch once more but --',\n",
       " \"--thus making @FemaleGilgamesh's assault useless.\\nThe spears collided with the dark force however did not penetrate.\\n\\nDue to the dark --\",\n",
       " '-=-0!!!!. Photo: LASTMA officials challenge police for driving against traffic in Lagos http://t.co/8VzsfTR1bG',\n",
       " '-??-\\n; kitana\\n? her fatalities slay me\\n\\x89ÛÓkody? (Vine by @KOMBATFANS33) https://t.co/uMajwSNLUF',\n",
       " \"-honey you ain't no angel. You like to scream these words as a weapon. Well go ahead take your best shot woman. I wanna leave you it's\",\n",
       " \".\\n.@Colts get demolished by #Patriots like 500-7 and whine to @nfl about 'integrity' #CantMakeItUp #PatriotsNation http://t.co/tpW5gPmhQ4\",\n",
       " \". @VELDFest announces refunds after Day two's extreme weather evacuation: http://t.co/PP05eTlK7t http://t.co/3Ol8MhhPMa\",\n",
       " '... The pain of those seconds must have been awful as her heart burst and her lungs collapsed and there was no air and...',\n",
       " '...//..// whao.. 12000 Nigerian refugees repatriated from Cameroon http://t.co/HuhWPmryWz',\n",
       " '...//..// whao.. 12000 Nigerian refugees repatriated from Cameroon http://t.co/baE0Ap4G9Y',\n",
       " '...//..// whao.. 12000 Nigerian refugees repatriated from Cameroon http://t.co/po19h8YCND',\n",
       " '...//..// whao.. Pic of 16yr old PKK suicide bomber who detonated bomb in Turkey Army trench released http://t.co/tuVbR4lEP3',\n",
       " \"...American casualties including 400000\\x89ÛÒ800000 fatalities and five to ten million Japanese fatalities.' https://t.co/TxzXCNUDr8\",\n",
       " \"...don't think I've ever been this close to a mental explosion in so long\",\n",
       " '...the kids at the orphanage were obviously not too traumatised. http://t.co/DjA4relcnS',\n",
       " './.....hmm 12000 Nigerian refugees repatriated from Cameroon http://t.co/96p3hUJNTj /(',\n",
       " './.....hmm 12000 Nigerian refugees repatriated from Cameroon http://t.co/YTW9SlWvmg /(',\n",
       " '.: .: .: .: .: .: .: .: .: .: .: .: .: .: .: .: .: .: .: .: .: RT DrAyesha4: #IndiaKoMunTorJawabDo\\n\\nIndian Army ki\\x89Û_ http://t.co/WJLJq3yA4g',\n",
       " '.@AIGinsurance CEO: Divestitures and #Catastrophe Losses Temper Q2 #Results http://t.co/2y2wZk1FrM',\n",
       " '.@APHL responds: FedEx no longer to transport bioterror germs in wake of anthrax lab mishaps http://t.co/cGdj3dRso9',\n",
       " '.@BBCNews .@mwlippert #SouthKorea Dogs prepared!Electrocutedboiling waterfur machine ALL STILL ALIVE http://t.co/3a50DhZ7YI',\n",
       " '.@CityofCalgary activates emergency plan amid severe thunderstorm warning http://t.co/pc7S8NxJ6Q #yyc #abstorm http://t.co/9xoHmMlMDY',\n",
       " \".@DinosaurDracula Felt remorse for missing Pam drowned it with these guys. Really like Jason's Part VI outfit. http://t.co/irHh2GVSeD\",\n",
       " '.@KurtSchlichter Yep considering that *millions* of Japanese fatalities were projected for Downfall. @_FreeMarketeer @dibang',\n",
       " \".@LibertyGeek83 Something about kissing the ass of mass murderer doesn't sit right with me. @POTUS feels this is ok. http://t.co/LeJ5OnUs9Q\",\n",
       " '.@NorwayMFA #Bahrain police had previously died in a road accident they were not killed by explosion https://t.co/gFJfgTodad',\n",
       " \".@RaniaKhalek true. I faced everything from 'Is Bin Laden your uncle?' to 'Hopefully Afghanistan will be bombed'. Children can be very ugly.\",\n",
       " '.@StacDemon with five burning questions for Chris Mullin and St. John\\x89Ûªs in 2015-16: http://t.co/NmRVTHkvAh #SJUBB',\n",
       " '.@Uber is looking to repair its recent bad rap with some #nonprofit partnerships: http://t.co/h1xch54Kd3',\n",
       " '.@Vagersedolla visits villages recently bombed by Turkey and finds people fed up with the PKK http://t.co/UUWEiKD7sP',\n",
       " '.@bigperm28 was drafted by the @Avalanche in 2005 (rd. 4 #124) overall. Played last season in @UtahGrizz. http://t.co/gPGTAfMKt0',\n",
       " '.@dantwitty52 shuts the door on the Boom in the bottom half. #Lightning coming up in the top of the eighth.',\n",
       " '.@david_cameron Stop upsetting this bee! Listen to science not chemical companies #savebees https://t.co/NDJja4D5O8 http://t.co/l7BJSq0Y2o',\n",
       " '.@greenbuildermag @NFPA to hold free webinar on #wildfire mitigation 8/19 at 2pm ET. http://t.co/xmsvOHKccP @Firewise @Michele_NFPA',\n",
       " \".@jimmyfallon I crushed squirrel bones with a mortar and pestle for my school's bio dept. not really sure why #WorstSummerJob\",\n",
       " '.@karijobe and her band killed it tonight.  It was almost loud enough to drown out the tambourine behind me..... @codycarnes @AG_USA',\n",
       " \".@no_periferico Apollo Brown - 'Detonate' f. M.O.P. http://t.co/m7na4sKfWR #ORapInforma\",\n",
       " '.@robdelaney  Catastrophe is anything but! I literally have been unable to stop ejaculating.',\n",
       " '.@runjewels recently met with the @BBC to discuss race relations in America &amp; the benefits of rioting. #LoveIsLove \\nhttps://t.co/6Ce1vwOVHs',\n",
       " '.@slosheriff: 2 South Gate police officers and 2 Huntington Park officers arrested after child abuse investigation at boot camp',\n",
       " '.@stavernise: France agreed to repay Russia for two warships which were never delivered after economic sanctions  http://t.co/K4H8cq7puo',\n",
       " '.@unsuckdcmetro Is the train half-derailed or half-railed? #deepthoughts',\n",
       " '.@uriminzok The coming catastrophe of the destruction of the puppet republic half naemolgo continue to firmly support. Yiraneuni and against',\n",
       " '.@wwp is serving more than 75k veterans. 52k OIF/OEF vets have physical wounds; many more have invisible ones http://t.co/sHHLV4dPlz #client',\n",
       " '.POTUS #StrategicPatience is a strategy for #Genocide; refugees; IDP Internally displaced people; horror; etc. https://t.co/8owC41FMBR',\n",
       " '.POTUS #StrategicPatience is a strategy for #Genocide; refugees; IDP Internally displaced people; horror; etc. https://t.co/rqWuoy1fm4',\n",
       " '.Sink Holes Earth Slides And Avalanches&gt;&gt;https://t.co/XrRLnheLaP\\n#Allah #Islam #sinkhole #landslide #avalanche #USA #France #UK #usgs #emsc',\n",
       " \"/ it's fine baby I was screaming at the TV x https://t.co/JwDfPYG3NT\",\n",
       " '//./../.. Pic of 16yr old PKK suicide bomber who detonated bomb in Turkey Army trench released http://t.co/Sj57BoKsiB -/',\n",
       " '//./../.. Pic of 16yr old PKK suicide bomber who detonated bomb in Turkey Army trench released http://t.co/fqSk7QCawO -/',\n",
       " '//im gonna beat armageddon as Hsu Hao ????\\njust got a flawless on my first try',\n",
       " '//kinda screamed &gt;_&lt; https://t.co/MSUY4qTPk9',\n",
       " '//screams in the distance// http://t.co/Cfe9HUQN0h',\n",
       " '0-day bug in fully patched OS X comes under active exploit to bypass password ... - Ars Technica http://t.co/53P4oOO1XN',\n",
       " '0-day bug in fully patched OS X comes under active exploit to bypass password ... - Ars Technica http://t.co/F7OgzrNPfv',\n",
       " '0-day bug in fully patched OS X comes under active exploit to hijack Macs http://t.co/sbGiRvQvzb',\n",
       " \"03/08/11: Police stop a 41-year-old in the Bronx citing 'casing a victim or location.' No weapon is found.\",\n",
       " '08/3/15: CAT FATALITY: UTICA NY; PLEASANT &amp; HOLLAND AVE:Black cat with white paws. Average size.  On grass next to north side of road.',\n",
       " '09:13 PM:  Hazardous Weather Outlook (http://t.co/ed1VpITsWY): NO HAZARDOUS WEATHER IS EXPECTED AT THIS TIME.... http://t.co/6XSbddlZiy',\n",
       " '0nPzp mhtw4fnet\\n\\nOfficials: Alabama Home Quarantined Over Possible Ebola Case - ABC News',\n",
       " '1 hour parade like 50 people collapsed. #OneHeartOneMindOneCSS',\n",
       " '1 of the major reason of suicide bombing is the absence of sexual interactions.',\n",
       " \"1 of those days when ya don't realize till already in transit that a train DERAILED at the Metro St closest to work?? https://t.co/QYX5ThkRbH\",\n",
       " \"1 pair new 27w 4''  ROUND LED Work Driving FLOOD Light Off-road ATV UTV - Full read by eBay http://t.co/d3P88xdLEc http://t.co/j2DDvh7fY0\",\n",
       " '1 \\x89ÛÒ The bug that almost crashed the Euro - http://t.co/KgkZ50Q8TK',\n",
       " \"1) 'Investigators say a Virgin Galactic spaceship crash was caused by structural failure after the co-pilot unlocked a braking system early'\",\n",
       " '1-6 TIX Calgary Flames vs COL Avalanche Preseason 9/29 Scotiabank Saddledome http://t.co/5G8qA6mPxm',\n",
       " '1.3 #Earthquake in 9Km Ssw Of Anza California #iPhone users download the Earthquake app for more information http://t.co/V3aZWOAmzK',\n",
       " '1.43 earthquake occurred near Mount St. Helens area Washington at 09:36 UTC! #earthquake http://t.co/2xMdiDGpnr',\n",
       " '1.9 #Earthquake in 5Km S Of Volcano Hawaii #iPhone users download the Earthquake app for more information http://t.co/V3aZWOAmzK',\n",
       " '1.9 earthquake occurred 15km E of Anchorage Alaska at 00:11 UTC! #earthquake #Anchorage http://t.co/QFyy5aZIFx',\n",
       " '1.94 earthquake occurred 5km S of Volcano Hawaii at 01:04 UTC! #earthquake #Volcano http://t.co/auf4J4Owj1',\n",
       " '1/2 of the deaths in red-light running crashes are pedestrians bicyclists &amp; other vehicle occupants that are hit by the red-light runners.',\n",
       " '10 Ways To Survive and Escape Martial Law | World http://t.co/BiuEY7bUtS http://t.co/JWQYbe4ep1',\n",
       " '10-Month-Old Baby Girl was Rescued by Coastguard after She Floated HALF A MILE Out to Sea! #socialnews http://t.co/kJUzJC6iGD',\n",
       " \"100  1' MIX NEW FLAT DOUBLE SIDED LINERLESS BOTTLE CAPS YOU CHOOSE MIX FLATTENED - Full re\\x89Û_ http://t.co/w00kjPrfdR http://t.co/mIXl1pFRJe\",\n",
       " \"100  1' MIX NEW FLAT DOUBLE SIDED LINERLESS BOTTLE CAPS YOU CHOOSE MIX FLATTENED - Full re\\x89Û_ http://t.co/wRNpywyaLj http://t.co/Qv7IYdoVx9\",\n",
       " '10News ? Water main break disrupts trolley service http://t.co/pAug7a68i0',\n",
       " \"10th death confirmed in Legionnaires' outbreak in South Bronx; total cases reaches triple digits http://t.co/JtzefipdBo\",\n",
       " '11 puncture wounds',\n",
       " '11 soldiers killed in ISIS suicide bomb in air base east Homs SYRIA NEWS | ZAMAN ALWSL  - http://t.co/V8juC5eK1A  #ISIS #Homs',\n",
       " '11-Year-Old Boy Charged With Manslaughter of Toddler: Report: An 11-year-old boy has been charged with manslaughter over the fatal sh...',\n",
       " '11000 SEEDS 30 VEGETABLE FRUIT VARIETY GARDEN KIT EMERGENCY SURVIVAL GEAR MRE  - Full rea\\x89Û_ http://t.co/DchfPXgY2m http://t.co/UgHpTzjuLK',\n",
       " '11:30BST traffic: A10&gt;Paris A40 Geneva A7 Mons A1 Hamburg A2&gt;Hanover A5 Karlsruhe Gotthard n/b  http://t.co/yoi9tOCxiQ',\n",
       " '11:30a Radar Update: Widespread Showers/Storms but moving over the same areas-minor flooding possible #HUNwx http://t.co/E3L1JqjH2u',\n",
       " '12 Month Payday Short Catastrophe Loans - Promote Finance Your Desire lIQd',\n",
       " \"12' 72W CREE LED Work Light Bar Alloy Spot Flood Combo Diving Offroad 4WD Boat - Full read\\x89Û_ http://t.co/MJMwA72ER6 http://t.co/ADx9iYi246\",\n",
       " \"12' 72W CREE LED Work Light Bar Alloy Spot Flood Combo Diving Offroad 4WD Boat - Full read\\x89Û_ http://t.co/XWN7rgVkzC http://t.co/SWPDQ84boI\",\n",
       " '13 reasons why we love women in the military   - lulgzimbestpicts http://t.co/IAPvTqxLht http://t.co/WAMKRe6CKD',\n",
       " '13 reasons why we love women in the military   - lulgzimbestpicts http://t.co/N1tjCt8HMC http://t.co/pYTQM7rVP0',\n",
       " '13 reasons why we love women in the military   - lulgzimbestpicts http://t.co/XKMLQ99SjY http://t.co/a3RGQuCUgo',\n",
       " '13 reasons why we love women in the military   - lulgzimbestpicts http://t.co/uZ1yiZ7n6m http://t.co/IjwAr15H16',\n",
       " '13 security personnel killed in Iraq suicide bombing | http://t.co/IbAZRHlSUr http://t.co/B6wWq2nYQI',\n",
       " '13,000 people receive #wildfires evacuation orders in California ',\n",
       " '13000 evacuated as California firefighters fight flames to save homes. #RockyFire http://t.co/tB52o146tx http://t.co/tsbTiGDSDT',\n",
       " '133 N past  the 5 L lane is reopened. All other lanes are closed. All lanes are open on the 133 S. Trash truck fire cleanup. @KNX1070',\n",
       " '150-Foot Sinkhole Opens In Lowndes County Residential Area http://t.co/cBAxCuBA0h',\n",
       " '150-Foot Sinkhole Opens in Lowndes County Residential Area\\nWCTV-35 minutes ago',\n",
       " '150-Foot Sinkhole Opens in Lowndes County Residential Area http://t.co/0YAxrJICRR',\n",
       " '16 Stylishly Unique Houses That Might Help You Survive the Zombie Apocalypse | http://t.co/AU3DBCI7nf http://t.co/BOvJRF62T7',\n",
       " '16 dead in Russia bus accident: At least 16 people were killed and 26 others injured when two buses collided i... http://t.co/jMBVPanXR3',\n",
       " '16 dead in Russia bus accident: At least 16 people were killed and 26 others injured when two buses collided i... http://t.co/ybyP68ieVn',\n",
       " '16yr old PKK suicide bomber who detonated bomb in Turkey Army trench released http://t.co/5orTB8p51c',\n",
       " '16yr old PKK suicide bomber who detonated bomb in Turkey Army trench released http://t.co/mGZslZz1wF',\n",
       " '16yr old PKK suicide bomber who detonated bomb in Turkey Army trench released http://t.co/mMkLapX2ok',\n",
       " '16yr old PKK suicide bomber who detonated bomb in Turkey Army trench released http://t.co/n7Yst76ku3',\n",
       " '16yr old boy pic PKK suicide bomber who detonated bomb in Turkey Army trench http://t.co/H3SXfV5mtC http://t.co/IEWDreNauK',\n",
       " '17 dead as Afghanistan aircraft crashes: An Afghan military helicopter has crashed in a remote region of the s...  http://t.co/kI9eHjHl8y',\n",
       " '17 killed in S\\x89ÛªArabia mosque suicide bombing\\n\\nA suicide bomber attacked a mosque in Aseer south-western Saudi... http://t.co/pMTQhiVsXX',\n",
       " '17 people displaced after 3-alarm fire tore through 2 apartment buildings on Second Street in Manchester. -- http://t.co/NzqwTCYidv #MHT',\n",
       " '17.Beyonce Is my pick for http://t.co/thoYhrHkfJ Fan Army #Beyhive http://t.co/WvJ39a3BGM',\n",
       " '18 bovines rescued 3 smugglersåÊnabbed http://t.co/E7fn5G5rUu',\n",
       " \"19 Things You'll Understand If You Have Trouble Talking to People http://t.co/sHaZNLMsFE\",\n",
       " '1943: Poland - work party prisoners in the Nazi death camp Treblinka rebelled seizing small arms and setting buildings on fire. #history',\n",
       " '1970 Mercury Cyclone GT Hood Moulding Very NICE CORE Cobra Jet 429CJ GT http://t.co/jOBVBvKFnZ http://t.co/C8zPmZhTDE',\n",
       " '1970 Mercury Cyclone GT Quarter Panel D/S Rear Trim Moulding Cobra Jet 429CJ http://t.co/wqUL8pG5Px http://t.co/4ykXt3kd62',\n",
       " '1st Quality Insurance Group is #hiring Licensed Property &amp; Casualty Insurance Agent Produc http://t.co/VMJRtuVmh4 #jobs #Denver',\n",
       " \"1st wk of Rainier Diet and my street Seward Park Ave is inundated w/ bypass traffic so @seattledot what's your plan? @seattletimes\",\n",
       " '2 Burning Man Tickets + Vehicle Pass - Full read by eBay http://t.co/b0eS3ZIORK http://t.co/juIIt2YFVo',\n",
       " '2 Cars Collide 1 Crashes Into Building: Two cars collided at an intersection and that sent one vehicle crashing\\x89Û_ http://t.co/TpUu3eaTB3',\n",
       " '2 Injured 1 missing in bridge collapse in central Mexico - Fox News Latino http://t.co/l0UnaFLy0Y',\n",
       " '2 Injured 1 missing in bridge collapse in central Mexico http://t.co/kHF0iH05A9',\n",
       " '2 TIX 10/3 Frozen Fury XVII: Los Angeles Kings v Avalanche 103 Row:AA MGM Grand http://t.co/kBtZZZG2Tp',\n",
       " '2 dead 2 injured in head-on collision on Kenai Spur Highway http://t.co/hbbGY2vZYt',\n",
       " '2 great new recipes; mudslide cake and so sorry stew! #GBBO',\n",
       " '2 hostages in Libya remain unharmed: Government sources on Wednesday denied reports that two Indian nationals who\\x89Û_ http://t.co/EX4FnJjL6H',\n",
       " '2 pple have been confirmed dead and over 20 rescued while many went missing after a ferry carrying 200 collided with a fishing boat.#News',\n",
       " '2.0 #Earthquake in Sicily Italy #iPhone users download the Earthquake app for more information http://t.co/V3aZWOAmzK',\n",
       " \"2/his explanation was that 'you request as much as you want provided you get your job done but you're constantly drowning in work!'\",\n",
       " '2015 new fashion ladies gold watch waterproof WeiQin famous brand michel quartz de lujo ca\\x89Û_ http://t.co/1JgsioUJaS http://t.co/719TZEyHFn',\n",
       " '22.Beyonce Is my pick for http://t.co/thoYhrHkfJ Fan Army #Beyhive http://t.co/WvJ39a3BGM',\n",
       " '24 killed in two simultaneous rail crash as acute floods derail the two trains #India #mumbai... http://t.co/4KBWPCmMbM',\n",
       " '24 killed in two simultaneous rail crash as acute floods derail the two trains #India #mumbai... http://t.co/b0ZwI0qPTU',\n",
       " '25 killed 50 injured in Madhya Pradesh twin train derailment http://t.co/DNU5HWSxo2',\n",
       " '25 killed as Kamayani Express Janata Express derail in Madhya Pradesh; ex gratia announced http://t.co/6SDTzSgElq',\n",
       " '26 people have screamed right in my ear this week at camp. TWENTY-SIX! And we still have 1/2 day left. #CedarGlade2015',\n",
       " \"28 Oct 1895: 'Bush Fires.' http://t.co/zCKXtFc9PT\",\n",
       " '29% of #oil and #gas organizations have no real-time insight on #cyber threats. See how #EY can help http://t.co/qamgvQAFzc',\n",
       " \"2Leezy its like you're about to fall down a cliff but you're grabbing my hand but my palms are sweaty ... Why bruh? https://t.co/GrWdr4kuf3\",\n",
       " '2pcs 18W CREE Led Work Light  Offroad Lamp Car Truck Boat Mining 4WD FLOOD BEAM - Full rea\\x89Û_ http://t.co/1QT51r5h98 http://t.co/OQH1JbUEnl',\n",
       " '2pcs 18W CREE Led Work Light  Offroad Lamp Car Truck Boat Mining 4WD FLOOD BEAM - Full rea\\x89Û_ http://t.co/ApWXS5Mm44 http://t.co/DS76loZLSu',\n",
       " '2pcs 18W CREE Led Work Light  Offroad Lamp Car Truck Boat Mining 4WD FLOOD BEAM - Full rea\\x89Û_ http://t.co/O1SMUh2unn http://t.co/xqj6WgiuQH',\n",
       " '2pcs 18W CREE Led Work Light  Offroad Lamp Car Truck Boat Mining 4WD FLOOD BEAM - Full rea\\x89Û_ http://t.co/VDeFmulx43 http://t.co/yqpAIjSa5g',\n",
       " '3 Bedrooms 1 Baths for sale in 29 Palms CA. (http://t.co/QMS8RRESsd)\\n(YouTube Video:... http://t.co/zLa30jCsSQ',\n",
       " '3 Former Executives To Be Prosecuted In Fukushima Nuclear Disaster http://t.co/UmjpRRwRUU',\n",
       " '3 Former Executives to Be Prosecuted in Fukushima Nuclear #Disaster.\\n\\nThe story: http://t.co/7uFnxxaVqs via @nytimes',\n",
       " '3 Former Executives to Be Prosecuted in Fukushima Nuclear Disaster http://t.co/JSsmMLNaQ7',\n",
       " '3 Options To Fix Your Facebook Cover Violation http://t.co/pF8dXwIbDp and Keep the #Facebook Police away. #socialmedia #strategy',\n",
       " '3 Things All Affiliate Marketers Need To Survive Online - Every affiliate marketer is always... http://t.co/kPMYqUJSUE',\n",
       " '3 Years After the Sikh Temple Massacre Hate-Violence Prevention Is Key | @dviyer @Colorlines http://t.co/nLbLtYnV36 http://t.co/bjrrqHHoHL',\n",
       " '3 former executives to be prosecuted in Fukushima nuclear disaster http://t.co/Gvj7slbELP',\n",
       " '3 former executives to be prosecuted in Fukushima nuclear disaster http://t.co/zsDVWEgLF5',\n",
       " \"3. excessive engine failure rate significant maintenance constantly emerging structural defects. Phew that's a lot I say.\",\n",
       " '30 seconds for my bitches to evacuate ??????',\n",
       " '300000 Dead 1200000 injured 11000000 Displaced this is #Syria 2015 visit  http://t.co/prCI76hOwu  #US #Canada http://t.co/rTCuFaG0au',\n",
       " '300K exotic car wrecked in train accident \\nhttp://t.co/J49xEuj7Ps',\n",
       " '320 [IR] ICEMOON [AFTERSHOCK] | http://t.co/M4JDZMGJoW | @djicemoon | #Dubstep #TrapMusic #DnB #EDM #Dance #Ices\\x89Û_ http://t.co/n0uhAsfkBv',\n",
       " '320 [IR] ICEMOON [AFTERSHOCK] | http://t.co/THyzOMVWU0 | @djicemoon | #Dubstep #TrapMusic #DnB #EDM #Dance #Ices\\x89Û_ http://t.co/83jOO0xk29',\n",
       " '320 [IR] ICEMOON [AFTERSHOCK] | http://t.co/e14EPzhotH | @djicemoon | #Dubstep #TrapMusic #DnB #EDM #Dance #Ices\\x89Û_ http://t.co/22a9D5DO6q',\n",
       " '320 [IR] ICEMOON [AFTERSHOCK] | http://t.co/vAM5POdGyw | @djicemoon | #Dubstep #TrapMusic #DnB #EDM #Dance #Ices\\x89Û_ http://t.co/zEVakJaPcz',\n",
       " '320 [IR] ICEMOON [AFTERSHOCK] | http://t.co/yNXnvVKCDA | @djicemoon | #Dubstep #TrapMusic #DnB #EDM #Dance #Ices\\x89Û_ http://t.co/weQPesENku',\n",
       " '4 Common Running Injuries and How to Avoid Them http://t.co/E5cNS6ufPA',\n",
       " '4 Printable Emergency Plan Templates\\nhttp://t.co/nAex0Q1Ax0',\n",
       " '4 THOSE WHO CARE ABOUT SIBLING ABUSE SURVIVORS join the new family tree: http://t.co/LQD1WEfpQd http://t.co/GgnbVZoHWu',\n",
       " '4 dead dozens injured in Gaza blast near house leveled in summer war - Washington Post  http://t.co/AXXDCaKzTY #World',\n",
       " '4 dead dozens injured in Gaza blast near house leveled in summer war - http://t.co/L53OABEqc9 via http://t.co/q3Izqdk1n0',\n",
       " '4 equipment ego break upon dig your family internet hoke excepting versus a sinking term: dfLJEV',\n",
       " '4 kidnapped ladies rescued by police in Enugu | Nigerian Tribune http://t.co/xYyEV89WIz',\n",
       " '4 police officers arrested for abusing children at police-run boot camp in San Luis Obispo Calif. - @ABC7: http://t.co/QpWOtugUI9',\n",
       " \"4.5 out of 5 stars by 290 reviewers for 'Dragon Blood' Boxset by Lindsay Buroker http://t.co/4yu5Sy1Cui #kindle http://t.co/mzmxMyklXv\",\n",
       " '40 displaced by Ocean Township apartment fire #NewYork - http://t.co/uelZ59wVOm',\n",
       " '4Yygb mhtw4fnet\\n\\nThousands evacuated as Taiwan prepares for strongest typhoon of 2015 - ABC Online',\n",
       " '5 Rejected Mortal Kombat Fatalities: Mortal Kombat has stretched the boundaries of its\\x89Û_ http://t.co/igZ7v24GE9 http://t.co/M75DNf2xyg',\n",
       " '5 Seconds of Summer Is my pick for http://t.co/J6WsePTXgA Fan Army #5SOSFAM http://t.co/qWgIwC9w7Z',\n",
       " '5 Seconds of Summer Is my pick for http://t.co/qcHV3JqOVK Fan Army #5SOSFAM http://t.co/gc0uDfnFgg  ÌÑ1',\n",
       " '5 dead 3 missing 103 families evacuated due to floods in Bukidnon: ... http://t.co/z0hSckvySN',\n",
       " '5/6 will destroy Reg C competitiveness.   The entire region will B over-saturated.   Yes Brockton gets $12M and RegC Commonwealth PPC and',\n",
       " '500 deaths a year from foodborne illness... @frackfreelancs dears... @DECCgovuk @frackfree_eu @tarleton_sophie http://t.co/JSccX8k0jA',\n",
       " '5000 year old ring fort to be demolished http://t.co/1PxpoqKTjo',\n",
       " '501 sky news mandem in totteham going maddddd burning up fed cars an dem ting dere',\n",
       " '52.214904 5.139055 Nuke please. Target Hilversum please detonate 800 meters below surface.',\n",
       " \"53 years ago this week is the anniversary of Marilyn Monroe's death RIPRIPRIP\",\n",
       " '573 deaths have been certified by the Government as \\x89Û÷nuclear disaster-related deaths\\x89Ûª',\n",
       " \"5:15p For those who watch over me forest fire smoke has lifted 'nuff f/me t/make a run t/the pet store on the hwy (N). I'll b/home by 7p.\",\n",
       " '6 Things Getting Caught in a Dust Storm &amp; the Challenging Real Estate Market Have in Common (+ video): http://t.co/jf5Ft5cq9j',\n",
       " '6 Trends Are Driving a Data Tsunami for Startups http://t.co/sjh0HsRp4s #startup',\n",
       " '6.Beyonce Is my pick for http://t.co/thoYhrHkfJ Fan Army #Beyhive http://t.co/WvJ39a3BGM',\n",
       " \"600 passengers abandoned at LRT station during Tuesday's hailstorm http://t.co/vgF41IuPkn #yyc #yycstorm #abstorm\",\n",
       " '627% but if they had lower striked than 16 I would have gone even further OTM. This could really fall off a cliff.',\n",
       " '69 Dead Due to Floods in Myanmar: Naypyidaw Aug 5 (Prensa Latina) The death toll rose today to 69 in Myanmar... http://t.co/JoDs9a32PI',\n",
       " '69 die in Myanmar floods 250000 affected http://t.co/LxjjGyv86A | https://t.co/U9x3perXCO',\n",
       " '7 Christians detained in Zhejiang amid widespread anger over cross removal- over 1200 crosses removed since last yr http://t.co/8PICbkDJM0',\n",
       " '7.Beyonce Is my pick for http://t.co/thoYhrHkfJ Fan Army #Beyhive http://t.co/WvJ39a3BGM',\n",
       " '70 Years After Atomic Bombs Japan Still Struggles With War Past http://t.co/5wfXbAQMBK The anniversary of the devastation wrought by the\\x89Û_',\n",
       " '70 Years After Atomic Bombs Japan Still Struggles With War Past: The anniversary of the devastation wrought b...  http://t.co/BS6XaqHsim',\n",
       " '70 Years After Atomic Bombs Japan Still Struggles With War Past: The anniversary of the devastation wrought b... http://t.co/1erd2FPryP',\n",
       " '70 Years After Atomic Bombs Japan Still Struggles With War Past: The anniversary of the devastation wrought b... http://t.co/LtVVPfLSg8',\n",
       " '70 Years After Atomic Bombs Japan Still Struggles With War Past: The anniversary of the devastation wrought b... http://t.co/Targ56iGBZ',\n",
       " '70 Years After Atomic Bombs Japan Still Struggles With War Past: The anniversary of the devastation wrought b... http://t.co/aG65u29SGo',\n",
       " '70 Years After Atomic Bombs Japan Still Struggles With War Past: The anniversary of the devastation wrought b... http://t.co/iTBJ6DKRZI',\n",
       " '70 Years After Atomic Bombs Japan Still Struggles With War Past: The anniversary of the devastation wrought b... http://t.co/o6AA0nWLha',\n",
       " '70 Years After Atomic Bombs Japan Still Struggles With War Past: The anniversary of the devastation wrought b... http://t.co/ohNdh2rI0V',\n",
       " '70 Years After Atomic Bombs Japan Still Struggles With War Past: The anniversary of the devastation wrought b... http://t.co/pmS4pMuR0q',\n",
       " '70 Years After Atomic Bombs Japan Still Struggles With War Past: The anniversary of the devastation wrought b... http://t.co/vFCtrzaOk2',\n",
       " '70 Years After Atomic Bombs Japan Still Struggles With Wartime Past: The anniversary of the devastation wroug... http://t.co/EfsA6pbeMC',\n",
       " \"70 won 70...&amp; some think possibility of my full transformation is impossible.  I don't quite like medical mysteries. BIOTERRORISM sucks.\",\n",
       " '70 years after #ABomb destroyd #Hiroshima\\x89ÛÓ#BBC looks at wht #survived http://t.co/dLgNUuuUYn #CNV Watch Peace Vigils: http://t.co/jvkYzNDtja',\n",
       " '70 years after : Hiroshima and Nagasaki - consequences of a nuclear detonation @ICRC http://t.co/BKh7Z6CWWl',\n",
       " '70 years ago at this hour the USA A-bombed Hiroshima therein killing 200000 civilians. Never forget the crime and never repeat. Peace ??',\n",
       " '70 years ago the first atomic attack flattened #Hiroshima 3 days later it was #Nagasaki both war crimes to put Moscow in its place',\n",
       " '70 years ago today 1945 #Hiroshima was the first nuclear atomic bomb leaving a major disaster in the wake. http://t.co/oW4GeXyNbH',\n",
       " '70 years ago today the U.S.  dropped a nuclear weapon on Japan. Here are some articles that share my opinion on that decision\\x89Û_',\n",
       " '70 years ago today the United States of America bombed Hiroshima in Japan.',\n",
       " '70 years since we annihilated 100000 people instantly and became aware that we have the ability to annihilate the whole of humanity',\n",
       " '70th anniversary of Hiroshima atomic bombing marked  http://t.co/1mGvd4x5Oe',\n",
       " '73rd GOODE Water Ski National Championships will go on as planned next week  http://t.co/PgKBT3MBAp. (Event w/ damage from a tornado on Mon)',\n",
       " '78 passengers evacuated safely after Green Line train derails. http://t.co/KzBSOhtwB4',\n",
       " '7:13pm #MAPLERIDGE Lougheed Hwy EB is closed between 203rd and Dewdney Trunk Rd because of Collision. ETO is between 8:00 PM and 9:00 PM.',\n",
       " '8 hours of bagging groceries = an aching body',\n",
       " '8-5-2015 - 4:30 P.M. - Progress Being Made on Boise Forest Fires\\nhttp://t.co/6o1mgMGHgt http://t.co/wTPO6elRZd',\n",
       " '8/6/2015@1:08 PM: HAZARD IN HIGH TRAFFIC AREA at 1500 WRIGHTSBORO RD http://t.co/DdUxtHvVnr',\n",
       " '8/6/2015@1:32 PM: HAZARD IN HIGH TRAFFIC AREA at 5000 DEANS BRIDGE RD http://t.co/itZzKWfhG5',\n",
       " '8/6/2015@2:09 PM: TRAFFIC ACCIDENT NO INJURY at 2781 WILLIS FOREMAN RD http://t.co/VCkIT6EDEv',\n",
       " '80 @UChicago faculty members pushing university to overturn ban of trauma center protesters http://t.co/ta1yqclpSc http://t.co/xToHI1HexY',\n",
       " \"80 tons of cocaine worth 125 million dollars drowned in #Alameda .....now that's a American drought #coke\",\n",
       " '85V-265V 10W LED Warm White Light Motion Sensor Outdoor Flood Light PIR Lamp AUC http://t.co/NJVPXzMj5V http://t.co/Ijd7WzV5t9',\n",
       " \"8th person dies in NY Legionnaires' disease outbreak http://t.co/fJdM8QHYAI #SEBEE\",\n",
       " '9 Charts Prove Financial Crisis Part 2 Has BEGUN!: The Financial Armageddon Economic Collapse Blog tracks tren... http://t.co/vHCXTvCINr',\n",
       " '9 Mile backup on I-77 South...accident blocking the Right 2 Lanes at Exit 31 Langtree Rd...consider NC 115 or NC 150 to NC 16 as alternate',\n",
       " \"9) 'Without the bombing you would have to do hara-kiri you know commit suicide'. http://t.co/UO0aQk9KR8 Hiroshima 70 years ago.\",\n",
       " \"9000 Photographs from 1800's British Mandate of Palestine - with no trace of 'Palestinians' http://t.co/X8i0mHYRmN\",\n",
       " '95-03 BMW 528 530 540 740 Emergency Warning Hazard Switch Button OEM 20177-707D http://t.co/kVNahTHUWZ http://t.co/Y8xkNpqMnJ',\n",
       " \"950. If a landslide tumbles down todayI'm on your side\\n\\nAnd if a twister sweeps it all away-\\n\\nYOU'RE ON YOUR OWN BITCH!*runs into distance*\",\n",
       " '9:35 pm. Thunderstorm. No rain. 90 degrees. This weather weird.',\n",
       " ':: Survive??',\n",
       " ':StarMade: :Stardate 3: :Planetary Annihilation:: http://t.co/I2hHvIUmTm via @YouTube',\n",
       " ';ACCIDENT PROPERTY DAMAGE; PINER RD/HORNDALE DR',\n",
       " '? #nowplaying SONG TO THE SIREN - JOHN FRUSCIANTE (2009) http://t.co/00cY9vXEFF',\n",
       " '? 19th Day Since 17-Jul-2015 -- Nigeria: Suicide Bomb Attacks Killed 64 People; Blamed: Boko Haram [L.A. Times/AP] | http://t.co/O2cdKpSDfp',\n",
       " '? Cracker - White Riot ? http://t.co/Cc7D0wxk0M #nowplaying',\n",
       " '? High Skies - Burning Buildings ? http://t.co/uVq41i3Kx2 #nowplaying',\n",
       " '? The Circular Ruins - Displaced part 4 ? http://t.co/Od2ratxRqS #nowplaying',\n",
       " '? This Weekend: Stockholm Sweden - Aug 8 at Copperfields http://t.co/6un7xC9Sve',\n",
       " '?#FUKUSHIMA?#TEPCO?\\nFukushima Nuclear Disaster | Increased Thyroid Cancer in #US - Integrative Cancer Answers\\nhttp://t.co/7Y2GNVA2eV',\n",
       " '?#FUKUSHIMA?#TEPCO?\\nMountains of debris from the Japanese tsunami have floated to the West Coast\\nhttp://t.co/y518jYrZav',\n",
       " '??\\nWarfighting Robots Could Reduce Civilian Casualties So Calling for a Ban Now Is Premature - IEEE Spectrum http://t.co/TzR58B86qz',\n",
       " '?? New Ladies Shoulder Tote #Handbag Faux Leather Hobo Purse Cross Body Bag #Womens http://t.co/zujwUiomb3 http://t.co/CJqq6cgohg',\n",
       " '?? New Ladies Shoulder Tote #Handbag Faux Leather Hobo Purse Cross Body Bag #Womens http://t.co/zujwUiomb3 http://t.co/GBCtmhx7pW',\n",
       " '?? New Ladies Shoulder Tote #Handbag Faux Leather Hobo Purse Cross Body Bag #Womens http://t.co/zujwUiomb3 http://t.co/iap4LwvqsW',\n",
       " '?? Yes I do have 2 guns ?? ??',\n",
       " '?? ice age: the meltdown',\n",
       " '???? #Krefeld: the incident happened in a chemical industry park! Emergency operations underway! A building reportly collapsed! @cnnbrk @ntvde',\n",
       " '???? it was an accident http://t.co/Oia5fxi4gM',\n",
       " '???? throwback Thurs ?? ????  Will You Still Love Me Tomorrow http://t.co/wmoyibWEc1 ??   @LucyMayOfficial  ?? ?? #Whirlwind http://t.co/0rsverLzTm',\n",
       " '???????????? @MikeParrActor absolutely devastated what an actor. Will miss #RossBarton every girls loves a bad boy',\n",
       " \"??One night and we're gonna come and crash the party\\nWeren't invited but we're feelin' so\\x89Û_ https://t.co/9hKXxBB82O\",\n",
       " '?You should be scared. You should be screaming and panicking.? THIS REDEEMER http://t.co/4h8qYvvd0E #romanticsuspense',\n",
       " '?that horrible sinking feeling when you\\x89Ûªve been at home on your phone for a while and you realise its been on 3G this whole time',\n",
       " '?Ìü New Ladies Shoulder Tote #Handbag Faux Leather Hobo Purse Cross Body Bag #Womens http://t.co/UooZXauS26 http://t.co/Pw78nblJKy RT en\\x89Û_',\n",
       " '@115Film Doctor we must leave immediately the Core is unstable...The whole building is told to be evacuated. Take the research. We need...',\n",
       " '@1acd4900c1424d1 @FoxNews no one is rioting burning down buildings or looting.',\n",
       " '@20skyhawkmm20 @traplord_29 @FREDOSANTANA300 @LilReese300 it was hella crazy 3 fights an ambulance and a couple mosh pits ??',\n",
       " '@2for1Lapdances For the people who died in Human Experiments by Unit 731 of Japanese military http://t.co/vVPLFQv58P http://t.co/yOMPxJpPTV',\n",
       " '@4Tiles @ZacB_ my dell tablet screams with win10',\n",
       " '@58hif my trick is to think about nasty things',\n",
       " '@5SOSFamUpdater social casualty',\n",
       " \"@5hvzlaRadio Love what you picked! We're playing WORTH IT by FIFTH HARM/KID INK because of you! Listen &amp; Vote: http://t.co/0wrATkA2jL\",\n",
       " \"@ABCNews24 @PeterDutton_MP \\nHe also told you....No-one has drowned in the last 2 years &amp; 1200 had under Labor. But let's not mention that..\",\n",
       " '@ACOUSTICMALOLEY no he was blazing it',\n",
       " \"@ACarewornHeart Have a good un fella sorry I won't be there to get annihilated with you :(\",\n",
       " \"@AFK_10 @Dr_JohanFranzen ISIS are orchs. But they don't have the ability to massacre civilians far from the frontlines like the tyrant.\",\n",
       " \"@AGeekyFangirl14 's things she looks in a significant other:\\n1. Beautiful eyes.\\n2. Humor.\\n3. Farts that creates an earthquake.\\n\\n????????\",\n",
       " '@AP \\n Too slow report the sinking boat in the Mediterranean sea what a shame',\n",
       " '@AP what a violent country get the army involved to help control the killings and bring back peace to the poor people.',\n",
       " '@APANO55 @JamesMelville 99% of Scientists don\\x89Ûªt believe in Catastrophic Man-Made Global Warming only the deluded do.',\n",
       " '@APPLEOFFIClAL Migrating from iPhoto to Photo is a catastrophe. I have wasted days trying to get this to work. 12 hrsto get to 8% complete.',\n",
       " \"@APhiABeta1907 w/ugliness due 2 your 'ugly'@AMESocialAction Frat's BIOTERRORISMI'm she who's @FBI ID U $tolewant'g another in my Home.@ABC\",\n",
       " \"@ARobotLegion so be it. You can't tell an oppressed group of people how to react to trauma. That would be stupid and ignorant.\",\n",
       " '@ATL_Events and thunder :-o',\n",
       " '@AWickedAssassin want to burst into flames! *Anna hugged him tightly*',\n",
       " \"@AaronTheFM guys to scared to show his real name anyway he knows I'll bomb him\",\n",
       " '@AberdeenFC @AberdeenFanPage \\n\\nGood luck to the ?????? tomorrow night \\n\\nGet some coefficient points plz \\n@Armageddon????',\n",
       " '@Abu_Baraa1 Suicide bomber targets Saudi mosque at least 13 dead - Suicide bomber targets Saudi mosque at least 13 dead\\nThis is ridiculous',\n",
       " \"@AcaciaPenn I'll start a big ass riot  send me to jail today mfs shidddd ??\",\n",
       " '@AdamNibloe Arrest report: Affiliation with Terrorism',\n",
       " '@AdamRubinESPN Familia: arm injury or head case?',\n",
       " '@AdamTuss and is the car that derailed a 5000 series by chance. They used to have issues w/ wheel climbing RE: 1/2007 Mt. Vern Sq derailment',\n",
       " '@Adanne___ kindly follow back',\n",
       " '@AdriaSimon_: Hailstorm day 2.... #round2 #yyc #yycstorm http://t.co/FqQI8GVLQ4',\n",
       " \"@Adumbbb oh that's not too bad then haha. I would've been panicking tho.\",\n",
       " '@AisuMage @AkumaReisu --just between Gray and Ophelia red flames blazing around her person setting nearly everything in the area--',\n",
       " \"@Akcsl bit of both. going to venture out once I've chosen suitable music for the mayhem...\",\n",
       " '@AlcoholAndMetal + do anything to fix that. Of the few people he had every trusted in his life Charles was one of the casualties.',\n",
       " \"@AlexAllTimeLow awwww they're on an airplane accident and they're gonna die what a cuties ???? good job!\",\n",
       " \"@AlexJacobsonPFS All Andre and Gore have to do is not fall off the cliff and we're elite on that side of the ball.\",\n",
       " \"@AlexeiVolkov1 @McFaul\\nAnd in an equal spirit I leave you to Roskomnadzor and to ridiculously politicized destruction of 'illegal food.'\",\n",
       " '@AlfaPedia It might have come out ONLY too burst as a Bomb making him suicide bomber',\n",
       " '@Allahsfinest12 ...death to muslims',\n",
       " \"@AlvinNelson07 A train isn't made to withstand collisions! Immediate derailment. It's totally fucked.\",\n",
       " '@AminESPN Mencius tears are worse correct? Takes the explosion n more pain day to day right?',\n",
       " '@AmirKingKhan you would have been annihilated so you might as well thank @FloydMayweather',\n",
       " '@AmuMumuX lava you.?? quit actin up',\n",
       " \"@AndyGilder Channel 5 have been doing the same for the RSPCA with Dog Rescuers.....'The Infomercial' has crept in the back door.\",\n",
       " '@AngusMacNeilSNP Every case for Yes has been utterly demolished utterly. If i was you I\\x89Ûªd be embarrassed to bring up indy ever again.',\n",
       " '@AnimalLogic LOTG smoothed out once blue bird and moth were caught and let go. Chalked up mouse massacre to a subtle Disney diss.',\n",
       " '@Annealiz1 You are going to make the internet explode with this Dr. Simon. O_o ... Was he alone or was there a red-head nearby? LOL',\n",
       " \"@AnnmarieRonan @niamhosullivanx I can't watch tat show its like a horror movie to me I get flashbacks an everything #traumatised\",\n",
       " '@Anonchimp think its a tie with thunderstorms tho they make my soul explode...',\n",
       " '@Anthxvy runs in the blood',\n",
       " '@ArgentaElite haha traumatised !!!! Hell no I want a job ?? xxx',\n",
       " \"@ArianaGrande  Girl you still lickin' public donuts???  Health hazard....u should be in jail.\",\n",
       " '@ArianaGrande @justinbieber All the loves be screaming at this one ??????',\n",
       " \"@ArianaGrande @justinbieber I'M SCREAMING OMG #IDOLS #22DAYS #WDYM\",\n",
       " '@ArianaGrande @justinbieber OMGGGG IM SCREAMING',\n",
       " '@ArianaGrande I literally walked out of the concert and screamed MY SOUL HAS BEEN BLESSED',\n",
       " \"@ArizonaDOT Price Rd North bound closed from University to Rio Salado.. Lots of police..  What's crackin?\",\n",
       " '@Arovolturi3000 survived because of magic  she is searching the wood for survivors outside of London',\n",
       " '@AshGhebranious civil rights continued in the 60s. And what about trans-generational trauma? if anything we should listen to the Americans.',\n",
       " '@Ashayo @MsMiggi Hi Ashayo! I believe there will be VODs on YouTube after the presentation but there is nothing like seeing it live :)',\n",
       " '@AsimTanvir @NemesisK_PES @KevR_7  Snow? Thunder and lightning?',\n",
       " \"@AssassinKPg Brother you don't want my friendship-you want to add your commercials on my posts. Frankly I'm inundated with this crap daily.\",\n",
       " '@AsterPuppet wounded and carried her back to where his brothers and sisters were and entered the air ship to go back to Academia',\n",
       " '@AtLarnxx but he DIDNT',\n",
       " '@AtchisonSean he is dead',\n",
       " \"@AuntieDote @RioSlade @Locke_Wiggins @akarb74 Not if one side is set on obliteration of govt and the other on fixing it. That's too far\",\n",
       " '@AutoAmes everyone hoped we would join ISIS and get ventilated by marines while trying to detonate a bandolier of hot dogs at Fort Dix',\n",
       " \"@AvBronstein @Popehat @instapundit @KurtSchlichter Also are you aware of the casualty estimates for an invasion of Japan's home islands?\",\n",
       " \"@Ayshun_Tornado then don't\",\n",
       " \"@Azimel 'Screaming Mad Scientist deceased after tumbling over heels and falling into sinkhole during investigation'\",\n",
       " '@BCFCTicketLady @Mr_Aamir_Javaid Can see you and inundated ATM so just wanted to say well done.  You are doing a grand job #KRO',\n",
       " \"@BLutz10 But the rioting began prior to the decision for the indictment so you're not really making sense at this point\\x89Û_\",\n",
       " \"@BLutz10 People aren't rioting because justice has been served and that murderer is behind bars. Simple! No justice=no peace Justice=peace.\",\n",
       " \"@BOBBYXFISHER I should've gave him a curfew\",\n",
       " '@BV Bloomberg will publish anything negative to try and derail public support in favor of the #IranDeal.',\n",
       " \"@BabySweet420 I'm mad 420 in your name &amp; you don't blaze.\",\n",
       " '@Babybackreeve FATALITY!!!!!!!!!!',\n",
       " '@BadAstronomer ...I have a lot of trouble getting both students and adults to understand that the moon is farther away than they think.',\n",
       " '@BaileySMSteach The fear of not looking like you know what you are doing\\x89Û_ahhh\\x89Û_that was a big one for me.  #PerryChat',\n",
       " '@Bang_Me_Up_Guk he was ;-; like he was singing so loud ;-;',\n",
       " '@BarackObama Senator John McCain\\x89Ûªs Whoops Moment : Photographed Chilling With ISIS\\x89Û_ http://t.co/JNrOMsE1Z2 @acmilan http://t.co/w6Yu7Qs4CV',\n",
       " '@Barbi_Twins We need help-horses will die! Please RT &amp; sign petition! Take a stand &amp; be a voice for them! #gilbert23 https://t.co/e8dl1lNCVu',\n",
       " '@Bardissimo Yes life has a 100% fatality rate.',\n",
       " '@BaseballQuotes1 I have a 32 inch dynasty',\n",
       " \"@BasilDudin The 'barbaric Saudies' as you said they relive Austrian economy. If we stop coming here many project will collapse.\",\n",
       " '@BattleRoyaleMod when they die they just get teleported into somewhere middle of ocean and stays trapped in there unless they decides 2/6',\n",
       " '@Beautiful_Juic1 just letting you know',\n",
       " '@BehindAShield @Wars_Goddess Sweet Lord.  (I collapse as my knees buckle)',\n",
       " \"@BenAffleck  i respected you and liked you for your talent. i guess i stil do but as a human being you've sunk low Mr.Affleck!\",\n",
       " \"@BenKin97 @Mili_5499 remember when u were up like 4-0 and blew it in one game? U probs don't because it was before the kings won the cup\",\n",
       " '@BenignoVito @LibertyBell1000 HILLARYMASS MURDERER.',\n",
       " '@Benji_Devos thanks thanks :3',\n",
       " '@Benjm1 @TourofUtah @B1Grego saw that pileup on TV keep racing even bleeding',\n",
       " '@Beyonce @NicoleKidman @Oprah these money grubbing kikes need to get a clueI have no money but I can still destroy with telekinesis. Watch.',\n",
       " '@BigSim50 nah Philly pundits are half the cause. They set buildings on fire to report on buildings being on fire.',\n",
       " '@BillMcCabe  sky looks clear.... No smoke from the fires. Enjoy your time in Tahoe. One of my favorite places!',\n",
       " '@Bill_Roose That looks so desolate and just...depressing',\n",
       " \"@Bilsko and suddenly I'm inundated with research. @humofthecity\",\n",
       " '@BizzleMahomie SCREAMING',\n",
       " '@Blazing_Ben @PattyDs50 @gwfrazee @JoshuaAssaraf Not really. Sadly I have come to expect that from Obama.',\n",
       " \"@BldrCOSheriff says 2nd grenade found is 'younger' that WWII era grenade found earlier. They'll detonate it at 8:00 tonight. @CBSDenver\",\n",
       " \"@BlizzHeroes @DustinBrowder DAD. I won't chase you constantly &amp; all the time but frequently. With a great deal of danger and distraction &lt;3\",\n",
       " '@BlizzHeroes Would love to see a Diablo map themed after places like Westmarch or Mt. Arreat or Pandemonium.',\n",
       " '@Blizzard_Gamin ight',\n",
       " '@Blizzard_draco @LoneWolffur I need this.',\n",
       " '@Blizzard_draco @LoneWolffur also me please I would very much like a link',\n",
       " '@Blizzard_draco GIVE ME FREE ART KAMON',\n",
       " '@Bloodbath_TV favourite YouTube channel going right now.\\nLove everything you guys do and thank you introducing me to Dude Bro Party Massacre',\n",
       " \"@BloopAndABlast Because I need to know if I'm supposed to throw myself off a bridge for a #Collapse or plan the parade. There is no both\",\n",
       " '@BlossomingLilac so destruction it seems. I see myself ruined... somehow.',\n",
       " '@BlueJays @Braves @Angels Instead of dumping water on yourselves please send it to British Columbia to help with the forest fires',\n",
       " \"@BobbyofHomewood @JOXRoundtable as in dropping the No-Sports show? I don't think SI Top25 would have derailed that.\",\n",
       " '@Bonn1eGreer The Angel of History propelled into the future by the winds of progress leaves in its wake piles of death and destruction. WB',\n",
       " \"@BookTubeAThon A world in which people aren't dying from natural and supernatural disaster and war most likely.\",\n",
       " '@BoomerangTime @RSKarim1 @sopameer @wattashit3 Appears to already be arriving in Ridah in body bags.',\n",
       " '@BoyInAHorsemask its a panda trapped in a dogs body',\n",
       " '@BradleyBrad47 the saw is fast af and does great damage i upgraded it a shitton and used it exclusively for a whole playthrough',\n",
       " '@BradleyBrad47 yeah but being fast and doing extremely high damage is what its all about if you want fast then im gonna have to get u the-',\n",
       " \"@BrandonMulcahy @fpine Here's the story http://t.co/TgXutUoyHl\",\n",
       " '@BritishBakeOff This has opened up old baked alaskan shaped wounds. Too soon GBBO too soon... #neverforget',\n",
       " '@BrittanyPetko breaking news tonight kids were rescued from play room after a week with no food or water do to parents sex life haha',\n",
       " '@BrodyFrieling @hanna_brooksie photo bombed',\n",
       " \"@BrookTekle_ didn't look like a murder scene just 1 cops a fire truck and 2 fire assistance cars along with a helicopter\",\n",
       " '@BroseidonRex @dapurplesharpie I skimmed through twitter and missed this body bagging.',\n",
       " '@BrrookkllyynnR came through like a tornado and destroyed me. such beautiful words',\n",
       " '@BubblyCuteOne ?????????? ok ok okayyyyyy Ima act right ....bout to get this blizzard tho',\n",
       " '@BuffoonMike I knew mo not doing much would bite us he was influenced by that shitty staff and injuries are not acquisitions',\n",
       " '@ByTorrecilla Torrecilla We Always info the Secret on LoL Game Check the Secret to get 600.000 Riot Points on my Bio',\n",
       " '@CAgov If 90BLKs&amp;8WHTs colluded 2 take WHT F @USAgov AUTH Hostage&amp;2 make her look BLK w/Bioterrorism&amp;use her lgl/org IDis ID still hers?@VP',\n",
       " '@CBSBigBrother ouch Clelli....you could almost hear their hopes and dreams being crushed !',\n",
       " \"@CIA hey you guy's i stopped a massacre so you   send the cops to my house to make this town permanently hate me wtf?\",\n",
       " '@CNN the End of Times are upon us. Famine War Death Plague. The presence is growing stronger.',\n",
       " '@CSAresu   American Tragedy http://t.co/SDmrzGErYX',\n",
       " \"@CTAZtrophe31 Everything must be OK because she's listening to 'Sandstorm' now...\",\n",
       " '@CVinch_WAOW thank you! Drove by the mayhem. How scary! -Stacy',\n",
       " \"@CW_Hoops you better make all your shots tomorrow cause I'm recording and flames will be thrown tomorrow\",\n",
       " '@CaIxxum5SOS thanks for the damn heart attack',\n",
       " \"@CacheAdvance besides your nasty thunderstorm or snowstorm nah. Can't say that I have.\",\n",
       " '@Caitsroberts see U the night wee bArra to get absolutely wrecked ????',\n",
       " '@CalFreedomMom @steph93065 not to mention a major contributor to the annihilation of Israel',\n",
       " '@Cali74142290 lol natural disaster/hospital crisis something is needed to get rid of some cast members....',\n",
       " '@Calum5SOS I need to stop doing this to myself???? @s_casualty',\n",
       " '@Calum5SOS you look like you got caught in a rainstorm this is amazing and disgusting at the same time',\n",
       " '@CameronCiletti @tigersjostun I can destroy u',\n",
       " '@Cameron_WATE\\n Parents of Colorado theater shooting victim fear copycat massacre\\n\\nhttp://t.co/LvlH3W3aWO\\n#Antioch\\n\\nhttp://t.co/vIwXY1XDYK',\n",
       " '@Camilla_33 @CrayKain Hate to shatter your delusions but a hatchet is a deadly weapon justifying lethal force. #gunsense',\n",
       " '@Captainn_Morgan car wreck ??',\n",
       " '@CaraJDeIevingnc the bomb impact ratio hit beyond kyle js',\n",
       " '@CarlaChamorros HILLARY A MASS MURDERER.',\n",
       " '@CarsonRex @SpaceAngelSeven Check out this #rockin preview of @ClaytonBryant Danger Zone Coming soon! https://t.co/P0fiZxmN5r #ArtistsUnited',\n",
       " '@Casper_rmg @BestComedyVine whats cracking cuz',\n",
       " '@Casper_rmg u on dick',\n",
       " \"@Catwoman1775 Another shooting in a movie theater this is getting more crazier but I'm glad they got the shooter &amp; no casualties.\",\n",
       " '@Chambered_Blood Yeah you are! #SpeakingFromExperience',\n",
       " \"@CharlesDagnall He's getting 50 here I think. Salt. Wounds. Rub. In.\",\n",
       " \"@CheetosArabia @Crudes It feels like if i would try to grab one off hes Cheetos i'll get bombed.\",\n",
       " \"@Chemical_Babe its a family emergency so I can't make it unless I have a chance to use by phone for stream.\",\n",
       " \"@Chibi877 --head. It hit the wall behind him with a loud bang. 'Language!' Drake shouted at him before getting up. 'I'm going out stay--\",\n",
       " \"@Chief__CG nah young blood that cook is gone I'm cut now .haha\",\n",
       " '@ChrisDanielShow Nearly-Fatal Pee in San Francisco http://t.co/1tvlFrhm1m',\n",
       " '@ChrisDyson16 Just wait until your friends at #MTA ruin it #Sorrybutitstrue',\n",
       " '@Chrisman528 fatality ...',\n",
       " '@ChristieC733 please support this Please cosponsor S. 928 and support aid for sick and injured 9/11 responders! #renew911health',\n",
       " '@ChristophersZen @HunterLove1995 @tblack yeah man..... That movie BOMBED hard',\n",
       " '@ChristyCroley Not in the works yet. Did you see the new Vela Short in Blaze? http://t.co/Q8rEoEVluE',\n",
       " '@ChubbySquirrel_ @Hurricane_Surge this here is very true &gt;:33333',\n",
       " '@CiaraMcKendry mine came on the day after my data renewed this month i was traumatised',\n",
       " '@ClassyColkett Thorgan Hazard made his move permanent go Gladbach this summer lmao',\n",
       " '@CloydRivers there were plenty of black people rioting when tOSU won the championship as well.',\n",
       " '@Coach_Keith44 @HannoMottola @TRPreston01 @mlrydalch no but a stretcher would have been nice.',\n",
       " '@CochiseCollege For the people who died in Human Experiments by Unit 731 of Japanese military http://t.co/vVPLFQv58P http://t.co/ldx9uKNGsk',\n",
       " \"@CodeMeW Were you opening regular or master packs? RT: so\\x89Û_ sunk\\x89Û_1 mil credits into light side\\x89Û_ didn't pull\\x89Û_one\\x89Û_you sure about those odds?\",\n",
       " '@CodyThompson25 ty just blew up the motor went up in flames he got out ok',\n",
       " '@ColdMpress You up to commiting mass murder tonight?',\n",
       " '@Collapsed thank u',\n",
       " '@ColoicCarnality You were bleeding my instincts kicked in. *She looks away and scratches the back of her head*',\n",
       " ...]"
      ]
     },
     "execution_count": 90,
     "metadata": {},
     "output_type": "execute_result"
    }
   ],
   "source": [
    "chars = sorted(l)\n",
    "chars"
   ]
  },
  {
   "cell_type": "code",
   "execution_count": 91,
   "metadata": {},
   "outputs": [],
   "source": [
    "train_dataset = df\n",
    "test_dataset = pd.read_csv('data/started/test.csv')"
   ]
  },
  {
   "cell_type": "markdown",
   "metadata": {},
   "source": [
    "For this case, I am not going to take the keywords column. I only yake the \n",
    "target and the text"
   ]
  },
  {
   "cell_type": "code",
   "execution_count": 92,
   "metadata": {},
   "outputs": [
    {
     "data": {
      "text/plain": [
       "id             0\n",
       "keyword       61\n",
       "location    2533\n",
       "text           0\n",
       "target         0\n",
       "dtype: int64"
      ]
     },
     "execution_count": 92,
     "metadata": {},
     "output_type": "execute_result"
    }
   ],
   "source": [
    "train_dataset.isnull().sum()"
   ]
  },
  {
   "cell_type": "code",
   "execution_count": 93,
   "metadata": {},
   "outputs": [
    {
     "data": {
      "text/plain": [
       "id             0\n",
       "keyword       26\n",
       "location    1105\n",
       "text           0\n",
       "dtype: int64"
      ]
     },
     "execution_count": 93,
     "metadata": {},
     "output_type": "execute_result"
    }
   ],
   "source": [
    "test_dataset.isnull().sum()"
   ]
  },
  {
   "cell_type": "code",
   "execution_count": 94,
   "metadata": {},
   "outputs": [
    {
     "name": "stdout",
     "output_type": "stream",
     "text": [
      "Requirement already satisfied: matplotlib in /venv/main/lib/python3.12/site-packages (3.10.3)\n",
      "Requirement already satisfied: contourpy>=1.0.1 in /venv/main/lib/python3.12/site-packages (from matplotlib) (1.3.2)\n",
      "Requirement already satisfied: cycler>=0.10 in /venv/main/lib/python3.12/site-packages (from matplotlib) (0.12.1)\n",
      "Requirement already satisfied: fonttools>=4.22.0 in /venv/main/lib/python3.12/site-packages (from matplotlib) (4.58.0)\n",
      "Requirement already satisfied: kiwisolver>=1.3.1 in /venv/main/lib/python3.12/site-packages (from matplotlib) (1.4.8)\n",
      "Requirement already satisfied: numpy>=1.23 in /venv/main/lib/python3.12/site-packages (from matplotlib) (2.1.2)\n",
      "Requirement already satisfied: packaging>=20.0 in /venv/main/lib/python3.12/site-packages (from matplotlib) (25.0)\n",
      "Requirement already satisfied: pillow>=8 in /venv/main/lib/python3.12/site-packages (from matplotlib) (11.0.0)\n",
      "Requirement already satisfied: pyparsing>=2.3.1 in /venv/main/lib/python3.12/site-packages (from matplotlib) (3.2.3)\n",
      "Requirement already satisfied: python-dateutil>=2.7 in /venv/main/lib/python3.12/site-packages (from matplotlib) (2.9.0.post0)\n",
      "Requirement already satisfied: six>=1.5 in /venv/main/lib/python3.12/site-packages (from python-dateutil>=2.7->matplotlib) (1.17.0)\n"
     ]
    }
   ],
   "source": [
    "!pip install matplotlib"
   ]
  },
  {
   "cell_type": "code",
   "execution_count": 95,
   "metadata": {},
   "outputs": [
    {
     "data": {
      "image/png": "[encoded data removed]",
      "text/plain": [
       "<Figure size 640x480 with 1 Axes>"
      ]
     },
     "metadata": {},
     "output_type": "display_data"
    }
   ],
   "source": [
    "import matplotlib.pyplot as plt\n",
    "import numpy as np\n",
    "\n",
    "# Sample categorical data\n",
    "categories = list(train_dataset.columns)\n",
    "counts = list(train_dataset.isnull().sum())\n",
    "\n",
    "plt.bar(categories, counts)\n",
    "plt.ylim(0, 3000)\n",
    "plt.xlabel(categories)\n",
    "plt.ylabel('Count')\n",
    "plt.title('Categorical Histogram')\n",
    "plt.show()"
   ]
  },
  {
   "cell_type": "code",
   "execution_count": 96,
   "metadata": {},
   "outputs": [
    {
     "data": {
      "image/png": "[encoded data removed]",
      "text/plain": [
       "<Figure size 640x480 with 1 Axes>"
      ]
     },
     "metadata": {},
     "output_type": "display_data"
    }
   ],
   "source": [
    "import matplotlib.pyplot as plt\n",
    "import numpy as np\n",
    "\n",
    "# Sample categorical data\n",
    "categories = list(test_dataset.columns)\n",
    "counts = list(test_dataset.isnull().sum())\n",
    "\n",
    "plt.bar(categories, counts)\n",
    "plt.ylim(0, 3000)\n",
    "plt.xlabel('Fruit Categories')\n",
    "plt.ylabel('Count')\n",
    "plt.title('Categorical Histogram')\n",
    "plt.show()"
   ]
  },
  {
   "cell_type": "code",
   "execution_count": 97,
   "metadata": {},
   "outputs": [
    {
     "data": {
      "text/plain": [
       "array(['Our Deeds are the Reason of this #earthquake May ALLAH Forgive us all',\n",
       "       'Forest fire near La Ronge Sask. Canada',\n",
       "       \"All residents asked to 'shelter in place' are being notified by officers. No other evacuation or shelter in place orders are expected\",\n",
       "       ...,\n",
       "       'Suicide bomber kills 15 in Saudi security site mosque - Reuters via World - Google News - Wall ... http://t.co/nF4IculOje',\n",
       "       'Two giant cranes holding a bridge collapse into nearby homes http://t.co/STfMbbZFB5',\n",
       "       'The Latest: More Homes Razed by Northern California Wildfire - ABC News http://t.co/YmY4rSkQ3d'],\n",
       "      dtype=object)"
      ]
     },
     "execution_count": 97,
     "metadata": {},
     "output_type": "execute_result"
    }
   ],
   "source": [
    "train_dataset.text.unique()"
   ]
  },
  {
   "cell_type": "code",
   "execution_count": 98,
   "metadata": {},
   "outputs": [],
   "source": [
    "t_text, te_text = list(train_dataset.text), list(test_dataset.text)"
   ]
  },
  {
   "cell_type": "code",
   "execution_count": 99,
   "metadata": {},
   "outputs": [
    {
     "data": {
      "text/html": [
       "<div>\n",
       "<style scoped>\n",
       "    .dataframe tbody tr th:only-of-type {\n",
       "        vertical-align: middle;\n",
       "    }\n",
       "\n",
       "    .dataframe tbody tr th {\n",
       "        vertical-align: top;\n",
       "    }\n",
       "\n",
       "    .dataframe thead th {\n",
       "        text-align: right;\n",
       "    }\n",
       "</style>\n",
       "<table border=\"1\" class=\"dataframe\">\n",
       "  <thead>\n",
       "    <tr style=\"text-align: right;\">\n",
       "      <th></th>\n",
       "      <th>id</th>\n",
       "      <th>keyword</th>\n",
       "      <th>location</th>\n",
       "      <th>text</th>\n",
       "    </tr>\n",
       "  </thead>\n",
       "  <tbody>\n",
       "    <tr>\n",
       "      <th>0</th>\n",
       "      <td>0</td>\n",
       "      <td>NaN</td>\n",
       "      <td>NaN</td>\n",
       "      <td>Just happened a terrible car crash</td>\n",
       "    </tr>\n",
       "    <tr>\n",
       "      <th>1</th>\n",
       "      <td>2</td>\n",
       "      <td>NaN</td>\n",
       "      <td>NaN</td>\n",
       "      <td>Heard about #earthquake is different cities, s...</td>\n",
       "    </tr>\n",
       "    <tr>\n",
       "      <th>2</th>\n",
       "      <td>3</td>\n",
       "      <td>NaN</td>\n",
       "      <td>NaN</td>\n",
       "      <td>there is a forest fire at spot pond, geese are...</td>\n",
       "    </tr>\n",
       "    <tr>\n",
       "      <th>3</th>\n",
       "      <td>9</td>\n",
       "      <td>NaN</td>\n",
       "      <td>NaN</td>\n",
       "      <td>Apocalypse lighting. #Spokane #wildfires</td>\n",
       "    </tr>\n",
       "    <tr>\n",
       "      <th>4</th>\n",
       "      <td>11</td>\n",
       "      <td>NaN</td>\n",
       "      <td>NaN</td>\n",
       "      <td>Typhoon Soudelor kills 28 in China and Taiwan</td>\n",
       "    </tr>\n",
       "  </tbody>\n",
       "</table>\n",
       "</div>"
      ],
      "text/plain": [
       "   id keyword location                                               text\n",
       "0   0     NaN      NaN                 Just happened a terrible car crash\n",
       "1   2     NaN      NaN  Heard about #earthquake is different cities, s...\n",
       "2   3     NaN      NaN  there is a forest fire at spot pond, geese are...\n",
       "3   9     NaN      NaN           Apocalypse lighting. #Spokane #wildfires\n",
       "4  11     NaN      NaN      Typhoon Soudelor kills 28 in China and Taiwan"
      ]
     },
     "execution_count": 99,
     "metadata": {},
     "output_type": "execute_result"
    }
   ],
   "source": [
    "test_dataset.head()"
   ]
  },
  {
   "cell_type": "code",
   "execution_count": 100,
   "metadata": {},
   "outputs": [
    {
     "data": {
      "text/plain": [
       "'Just happened a terrible car crash'"
      ]
     },
     "execution_count": 100,
     "metadata": {},
     "output_type": "execute_result"
    }
   ],
   "source": [
    "te_text[0]"
   ]
  },
  {
   "cell_type": "code",
   "execution_count": 101,
   "metadata": {},
   "outputs": [],
   "source": [
    "test_data_id = list(test_dataset.id)\n"
   ]
  },
  {
   "cell_type": "code",
   "execution_count": 102,
   "metadata": {},
   "outputs": [
    {
     "data": {
      "text/plain": [
       "10875"
      ]
     },
     "execution_count": 102,
     "metadata": {},
     "output_type": "execute_result"
    }
   ],
   "source": [
    "test_data_id[-1]"
   ]
  },
  {
   "cell_type": "code",
   "execution_count": 103,
   "metadata": {},
   "outputs": [],
   "source": [
    "t_target = list(train_dataset.target)"
   ]
  },
  {
   "cell_type": "code",
   "execution_count": 104,
   "metadata": {},
   "outputs": [
    {
     "data": {
      "text/plain": [
       "7613"
      ]
     },
     "execution_count": 104,
     "metadata": {},
     "output_type": "execute_result"
    }
   ],
   "source": [
    "len(t_target)"
   ]
  },
  {
   "cell_type": "code",
   "execution_count": 105,
   "metadata": {},
   "outputs": [
    {
     "data": {
      "text/plain": [
       "(157, 151)"
      ]
     },
     "execution_count": 105,
     "metadata": {},
     "output_type": "execute_result"
    }
   ],
   "source": [
    "max([len(t) for t in t_text]), max([len(t) for t in te_text])"
   ]
  },
  {
   "cell_type": "code",
   "execution_count": 106,
   "metadata": {},
   "outputs": [
    {
     "data": {
      "text/plain": [
       "['a', 'b', 'c', 'd', 'e', 'f', 'g', 'h']"
      ]
     },
     "execution_count": 106,
     "metadata": {},
     "output_type": "execute_result"
    }
   ],
   "source": [
    "l1 = list('abcd')\n",
    "l2 = list('efgh')\n",
    "l1+l2"
   ]
  },
  {
   "cell_type": "code",
   "execution_count": 107,
   "metadata": {},
   "outputs": [],
   "source": [
    "# chars = sorted(list(set(''.join(t_text+te_text))))\n",
    "# stoi = {s:i+1 for i, s in enumerate(chars)}\n",
    "# stoi['EOL'] = 0 \n",
    "# itos = {i:s for s, i in stoi.items()}\n",
    "# block_size = 157"
   ]
  },
  {
   "cell_type": "code",
   "execution_count": 108,
   "metadata": {},
   "outputs": [],
   "source": [
    "chars = sorted(list(set(''.join(t_text+te_text))))\n",
    "stoi = {s:i for i, s in enumerate(chars)}\n",
    "#stoi['EOL'] = 0 \n",
    "itos = {i:s for s, i in stoi.items()}\n",
    "block_size = 157"
   ]
  },
  {
   "cell_type": "code",
   "execution_count": 109,
   "metadata": {},
   "outputs": [],
   "source": [
    "import torch"
   ]
  },
  {
   "cell_type": "code",
   "execution_count": 110,
   "metadata": {},
   "outputs": [
    {
     "data": {
      "text/plain": [
       "7613"
      ]
     },
     "execution_count": 110,
     "metadata": {},
     "output_type": "execute_result"
    }
   ],
   "source": [
    "len(t_text)"
   ]
  },
  {
   "cell_type": "code",
   "execution_count": 111,
   "metadata": {},
   "outputs": [],
   "source": [
    "n = int(0.9*len(t_text))\n",
    "train_data = t_text[:n]\n",
    "val_data = t_text[n:]"
   ]
  },
  {
   "cell_type": "code",
   "execution_count": 112,
   "metadata": {},
   "outputs": [],
   "source": [
    "test_data = te_text"
   ]
  },
  {
   "cell_type": "code",
   "execution_count": null,
   "metadata": {},
   "outputs": [],
   "source": []
  },
  {
   "cell_type": "code",
   "execution_count": 113,
   "metadata": {},
   "outputs": [
    {
     "data": {
      "text/plain": [
       "'Just happened a terrible car crash'"
      ]
     },
     "execution_count": 113,
     "metadata": {},
     "output_type": "execute_result"
    }
   ],
   "source": [
    "test_data[0]"
   ]
  },
  {
   "cell_type": "code",
   "execution_count": null,
   "metadata": {},
   "outputs": [],
   "source": []
  },
  {
   "cell_type": "code",
   "execution_count": 114,
   "metadata": {},
   "outputs": [],
   "source": [
    "encode = lambda s: [stoi[c] for c in s]\n",
    "decode = lambda l: ''.join(itos[i] for i in l)"
   ]
  },
  {
   "cell_type": "code",
   "execution_count": 115,
   "metadata": {},
   "outputs": [
    {
     "data": {
      "text/plain": [
       "tensor([9, 2, 0, 9, 5, 5, 8, 8, 1, 3, 4, 9, 9, 9, 5, 7, 4, 4, 3, 1, 2, 3, 3, 6,\n",
       "        5, 7, 5, 8, 6, 5, 4, 6])"
      ]
     },
     "execution_count": 115,
     "metadata": {},
     "output_type": "execute_result"
    }
   ],
   "source": [
    "ix = torch.randint(10, (32,))\n",
    "ix"
   ]
  },
  {
   "cell_type": "code",
   "execution_count": 116,
   "metadata": {},
   "outputs": [
    {
     "data": {
      "text/plain": [
       "7613"
      ]
     },
     "execution_count": 116,
     "metadata": {},
     "output_type": "execute_result"
    }
   ],
   "source": [
    "len(t_text)"
   ]
  },
  {
   "cell_type": "code",
   "execution_count": 117,
   "metadata": {},
   "outputs": [],
   "source": [
    "train_list = []\n",
    "block_size = 256\n",
    "for t in t_text:\n",
    "    encoded = encode(t)\n",
    "    remain_sz = block_size - len(encoded)\n",
    "    remain = [0] * remain_sz\n",
    "    context = encoded + remain\n",
    "    train_list.append(context)"
   ]
  },
  {
   "cell_type": "code",
   "execution_count": 118,
   "metadata": {},
   "outputs": [],
   "source": [
    "test_list = []\n",
    "\n",
    "for t in te_text:\n",
    "    encoded = encode(t)\n",
    "    remain_sz = block_size - len(encoded)\n",
    "    remain = [0] * remain_sz\n",
    "    context = encoded + remain\n",
    "    test_list.append(context)\n",
    "data_test = torch.tensor(test_list, dtype=torch.long)\n",
    "test_id = torch.tensor(test_data_id)"
   ]
  },
  {
   "cell_type": "code",
   "execution_count": 119,
   "metadata": {},
   "outputs": [],
   "source": [
    "data = torch.tensor(train_list, dtype=torch.long)\n",
    "target = torch.tensor(t_target)"
   ]
  },
  {
   "cell_type": "code",
   "execution_count": 120,
   "metadata": {},
   "outputs": [
    {
     "data": {
      "text/plain": [
       "tensor([[41, 84, 82,  ...,  0,  0,  0],\n",
       "        [39, 68, 64,  ...,  0,  0,  0],\n",
       "        [83, 71, 68,  ...,  0,  0,  0],\n",
       "        ...,\n",
       "        [38, 81, 68,  ...,  0,  0,  0],\n",
       "        [44, 36, 38,  ...,  0,  0,  0],\n",
       "        [ 3, 34, 72,  ...,  0,  0,  0]])"
      ]
     },
     "execution_count": 120,
     "metadata": {},
     "output_type": "execute_result"
    }
   ],
   "source": [
    "data_test"
   ]
  },
  {
   "cell_type": "code",
   "execution_count": 121,
   "metadata": {},
   "outputs": [],
   "source": [
    "import torch"
   ]
  },
  {
   "cell_type": "code",
   "execution_count": 122,
   "metadata": {},
   "outputs": [],
   "source": [
    "# ix = torch.randint(len(data), (64,))\n",
    "# target[ix].shape"
   ]
  },
  {
   "cell_type": "code",
   "execution_count": 123,
   "metadata": {},
   "outputs": [
    {
     "data": {
      "text/plain": [
       "'cuda'"
      ]
     },
     "execution_count": 123,
     "metadata": {},
     "output_type": "execute_result"
    }
   ],
   "source": [
    "# if torch.backends.mps.is_available():\n",
    "#     mps_device = torch.device(\"mps\")\n",
    "# device = torch.device('mps' if torch.backends.mps.is_available() else 'cpu')\n",
    "device = 'cuda' if torch.cuda.is_available() else 'cpu'\n",
    "#\n",
    "device"
   ]
  },
  {
   "cell_type": "code",
   "execution_count": 124,
   "metadata": {},
   "outputs": [],
   "source": [
    "model = None\n",
    "eval_iters = 200"
   ]
  },
  {
   "cell_type": "code",
   "execution_count": 125,
   "metadata": {},
   "outputs": [],
   "source": [
    "batch_size = 32\n",
    "n = int(0.9 * len(data)) #train valid split ratio 0.9\n",
    "train_data, val_data = data[:n], data[n:]\n",
    "def get_batch(split):\n",
    "    data = train_data if split == \"train\" else val_data\n",
    "    ix = torch.randint(len(data), (batch_size,))\n",
    "    x = data[ix]\n",
    "    y = target[ix]\n",
    "    x, y = x.to(device), y.to(device)\n",
    "    return x, y\n",
    "@torch.no_grad()\n",
    "def estimate_loss():\n",
    "    out = {}\n",
    "    model.eval()\n",
    "    for split in ['train', 'val']:\n",
    "        losses = torch.zeros(eval_iters)\n",
    "        for k in range(eval_iters):\n",
    "            X, Y = get_batch(split)\n",
    "            logits, loss = model(X, Y)\n",
    "            losses[k] = loss.item()\n",
    "        out[split] = losses.mean()\n",
    "    model.train()\n",
    "    return out"
   ]
  },
  {
   "cell_type": "code",
   "execution_count": 126,
   "metadata": {},
   "outputs": [],
   "source": [
    "from torch import nn "
   ]
  },
  {
   "cell_type": "code",
   "execution_count": 127,
   "metadata": {},
   "outputs": [],
   "source": [
    "devcice = 'cpu'"
   ]
  },
  {
   "cell_type": "code",
   "execution_count": 128,
   "metadata": {},
   "outputs": [],
   "source": [
    "class MLP(nn.Module):\n",
    "    def __init__(self,n_embd):\n",
    "        super().__init__()\n",
    "        self.c_fc = nn.Linear(n_embd, 4*n_embd, bias = False)\n",
    "        self.gelu = nn.GELU()\n",
    "        self.c_proj = nn.Linear(4* n_embd, n_embd)\n",
    "        self.dropout = nn.Dropout(dropout)\n",
    "    \n",
    "    def forward(self, x):\n",
    "        x = self.c_fc(x)\n",
    "        x = self.gelu(x)\n",
    "        x = self.c_proj(x)\n",
    "        x = self.dropout(x)\n",
    "        return x"
   ]
  },
  {
   "cell_type": "code",
   "execution_count": 129,
   "metadata": {},
   "outputs": [],
   "source": [
    "class Block(nn.Module):\n",
    "    def __init__(self, n_embd, n_head):\n",
    "        super().__init__()\n",
    "        h_sz = n_embd// n_head\n",
    "        self.attn = MHA(n_head, h_sz)\n",
    "        self.mlp = MLP(n_embd)\n",
    "        self.ln_1 = LayerNorm(n_embd)\n",
    "        self.ln_2 = LayerNorm(n_embd)\n",
    "\n",
    "    def forward(self, x):\n",
    "        x = x + self.attn(self.ln_1(x))\n",
    "        x = x + self.mlp(self.ln_2(x))\n",
    "        return x"
   ]
  },
  {
   "cell_type": "code",
   "execution_count": null,
   "metadata": {},
   "outputs": [],
   "source": []
  },
  {
   "cell_type": "code",
   "execution_count": 130,
   "metadata": {},
   "outputs": [],
   "source": [
    "bias = False\n",
    "dropout = 0.4"
   ]
  },
  {
   "cell_type": "code",
   "execution_count": null,
   "metadata": {},
   "outputs": [],
   "source": []
  },
  {
   "cell_type": "code",
   "execution_count": 131,
   "metadata": {},
   "outputs": [],
   "source": [
    "class MHA(nn.Module):\n",
    "\n",
    "    def __init__(self, n_head, h_sz):\n",
    "        super().__init__()\n",
    "        self.n_head = n_head\n",
    "        n_embd = self.n_head * h_sz\n",
    "        self.n_embd = n_embd\n",
    "        # output proj\n",
    "        self.c_proj = nn.Linear(n_embd, n_embd, bias=False)\n",
    "\n",
    "        # reg\n",
    "        self.attn_dropout = nn.Dropout(dropout)\n",
    "        self.resid_dropout = nn.Dropout(dropout)\n",
    "\n",
    "        # key, query, value\n",
    "        self.c_attn = nn.Linear(n_embd, n_embd * 3, bias=bias)\n",
    "\n",
    "\n",
    "        self.dropout =  nn.Dropout(dropout)\n",
    "        \n",
    "        self.dropout1 = 0.4\n",
    "        self.flash = hasattr(torch.nn.functional, 'scaled_dot_product_attention')\n",
    "        if not self.flash:\n",
    "            print(\"WARNING: using slow attention. Flash Attention requires PyTorch >= 2.0\")\n",
    "\n",
    "            # self.register_buffer(\"bias\", torch.tril(torch.ones(block_size, block_size))\n",
    "            #                             .view(1, 1, block_size, block_size))\n",
    "\n",
    "    def forward(self, x):\n",
    "        B, T, C = x.size() # batch size, sequence length, embedding dimensionality (n_embd)\n",
    "\n",
    "\n",
    "        q, k, v  = self.c_attn(x).split(self.n_embd, dim=2)\n",
    "        k = k.view(B, T, self.n_head, C // self.n_head).transpose(1, 2) # (B, nh, T, hs)\n",
    "        q = q.view(B, T, self.n_head, C // self.n_head).transpose(1, 2) # (B, nh, T, hs)\n",
    "        v = v.view(B, T, self.n_head, C // self.n_head).transpose(1, 2) # (B, nh, T, hs)\n",
    "\n",
    "        if self.flash:\n",
    "\n",
    "            y = torch.nn.functional.scaled_dot_product_attention(q, k, v, attn_mask=None, dropout_p=self.dropout1 if self.training else 0, is_causal=True)\n",
    "        else:\n",
    "\n",
    "            att = (q @ k.transpose(-2, -1)) * (1.0 / math.sqrt(k.size(-1)))\n",
    "            att = F.softmax(att, dim=-1)\n",
    "            att = self.attn_dropout(att)\n",
    "            \n",
    "            y = att @ v # (B, nh, T, T) x (B, nh, T, hs) -> (B, nh, T, hs)\n",
    "        y = y.transpose(1, 2).contiguous().view(B, T, C) # re-assemble all head outputs side by side\n",
    "\n",
    "\n",
    "        y = self.resid_dropout(self.c_proj(y))\n",
    "        return y\n"
   ]
  },
  {
   "cell_type": "code",
   "execution_count": 132,
   "metadata": {},
   "outputs": [],
   "source": [
    "import math\n",
    "import inspect\n",
    "from dataclasses import dataclass\n",
    "\n",
    "import torch\n",
    "import torch.nn as nn\n",
    "from torch.nn import functional as F"
   ]
  },
  {
   "cell_type": "code",
   "execution_count": 133,
   "metadata": {},
   "outputs": [],
   "source": [
    "class LayerNorm(nn.Module):\n",
    "    ''' LayerNorm but with an optional bias. Pytorch does support simply bias = False'''\n",
    "    def __init__(self, ndim):\n",
    "        super().__init__()\n",
    "        self.weight = nn.Parameter(torch.ones(ndim))\n",
    "        self.bias = None\n",
    "    def forward(self, input):\n",
    "        return F.layer_norm(input, self.weight.shape, self.weight, self.bias, 1e-5 )"
   ]
  },
  {
   "cell_type": "code",
   "execution_count": 134,
   "metadata": {},
   "outputs": [
    {
     "data": {
      "text/plain": [
       "127"
      ]
     },
     "execution_count": 134,
     "metadata": {},
     "output_type": "execute_result"
    }
   ],
   "source": [
    "len(stoi.keys())"
   ]
  },
  {
   "cell_type": "code",
   "execution_count": null,
   "metadata": {},
   "outputs": [],
   "source": []
  },
  {
   "cell_type": "code",
   "execution_count": 135,
   "metadata": {},
   "outputs": [
    {
     "data": {
      "text/plain": [
       "127"
      ]
     },
     "execution_count": 135,
     "metadata": {},
     "output_type": "execute_result"
    }
   ],
   "source": [
    "vocab_size = len(stoi.keys())\n",
    "vocab_size"
   ]
  },
  {
   "cell_type": "code",
   "execution_count": null,
   "metadata": {},
   "outputs": [],
   "source": []
  },
  {
   "cell_type": "code",
   "execution_count": null,
   "metadata": {},
   "outputs": [],
   "source": []
  },
  {
   "cell_type": "code",
   "execution_count": 136,
   "metadata": {},
   "outputs": [],
   "source": [
    "class NLP_Model(nn.Module):\n",
    "\n",
    "    def __init__(self):\n",
    "        super().__init__()\n",
    "        assert vocab_size is not None\n",
    "        assert block_size is not None\n",
    "        \n",
    "\n",
    "        self.transformer = nn.ModuleDict(dict(\n",
    "            wte = nn.Embedding(vocab_size, n_embd),\n",
    "            wpe = nn.Embedding(block_size, n_embd),\n",
    "            drop = nn.Dropout(dropout),\n",
    "            h = nn.ModuleList([Block(n_embd, n_head) for _ in range(n_layer)]),\n",
    "            ln_f = LayerNorm(n_embd),\n",
    "        ))\n",
    "        self.lm_head = nn.Linear(block_size * n_embd, 2, bias=False)\n",
    "        \n",
    "        # with weight tying when using torch.compile() some warnings get generated:\n",
    "        # \"UserWarning: functional_call was passed multiple values for tied weights.\n",
    "        # This behavior is deprecated and will be an error in future versions\"\n",
    "        # not 100% sure what this is, so far seems to be harmless. TODO investigate\n",
    "       #self.transformer.wte.weight = self.lm_head.weight # https://paperswithcode.com/method/weight-tying\n",
    "\n",
    "        # init all weights\n",
    "        self.apply(self._init_weights)\n",
    "        # apply special scaled init to the residual projections, per GPT-2 paper\n",
    "        for pn, p in self.named_parameters():\n",
    "            if pn.endswith('c_proj.weight'):\n",
    "                torch.nn.init.normal_(p, mean=0.0, std=0.02/math.sqrt(2 * n_layer))\n",
    "\n",
    "        # report number of parameters\n",
    "        print(\"number of parameters: %.2fM\" % (self.get_num_params()/1e6,))\n",
    "\n",
    "    def get_num_params(self, non_embedding=True):\n",
    "        \"\"\"\n",
    "        Return the number of parameters in the model.\n",
    "        For non-embedding count (default), the position embeddings get subtracted.\n",
    "        The token embeddings would too, except due to the parameter sharing these\n",
    "        params are actually used as weights in the final layer, so we include them.\n",
    "        \"\"\"\n",
    "        n_params = sum(p.numel() for p in self.parameters())\n",
    "        if non_embedding:\n",
    "            n_params -= self.transformer.wpe.weight.numel()\n",
    "        return n_params\n",
    "\n",
    "    def _init_weights(self, module):\n",
    "        if isinstance(module, nn.Linear):\n",
    "            torch.nn.init.normal_(module.weight, mean=0.0, std=0.02)\n",
    "            if module.bias is not None:\n",
    "                torch.nn.init.zeros_(module.bias)\n",
    "        elif isinstance(module, nn.Embedding):\n",
    "            torch.nn.init.normal_(module.weight, mean=0.0, std=0.02)\n",
    "\n",
    "    def forward(self, idx, targets=None):\n",
    "        device = idx.device\n",
    "        #print(\"Pass 0: \",device)\n",
    "        #print(\"Pass 1: \")\n",
    "        #print(\"Pass 1t: \",idx.size())\n",
    "        #print(\"Pass 1wte: \",self.transformer.wte.weight.shape)\n",
    "        b, t = idx.size()\n",
    "        #print(\"1 idx.size(): \", idx.size())\n",
    "        \n",
    "        pos = torch.arange(0, t, dtype=torch.long, device=device) # shape (t)\n",
    "\n",
    "        # forward the GPT model itself\n",
    "        tok_emb = self.transformer.wte(idx) # token embeddings of shape (b, t, n_embd)\n",
    "        pos_emb = self.transformer.wpe(pos) # position embeddings of shape (t, n_embd)\n",
    "        \n",
    "        #print(\"Pass 2\")\n",
    "        x = self.transformer.drop(tok_emb + pos_emb)\n",
    "        for block in self.transformer.h:\n",
    "            x = block(x)\n",
    "        x = self.transformer.ln_f(x)\n",
    "        #print(\"Pass 2: \",x.shape)\n",
    "        #print(\"Pass 3\")\n",
    "        x = x.view(b, -1)\n",
    "        #print(\"Pass 3: \",x.shape)\n",
    "        #print(\"Pass 3a: \",self.lm_head.weight.shape)\n",
    "        #print(\"Pass 4: \",self.lm_head.weight.shape)\n",
    "        #print(\"Pass 4a: \",(t,n_embd))\n",
    "        logits = self.lm_head(x) # (B,T X C ) ->(B,T X 2 )\n",
    "        \n",
    "        #print(\"Pass 5 logits: \",logits.shape)\n",
    "        \n",
    "        if targets is None:\n",
    "            loss = None\n",
    "        else:\n",
    "            #B, out_dim = logits.size()\n",
    "            #print(\"debug logits: \", logits.shape)\n",
    "            #print(\"targets: \", targets.shape)\n",
    "            # logits = logits.view(B*T, out_dim)\n",
    "\n",
    "            # targets = targets.view(B*T)\n",
    "\n",
    "            loss = F.cross_entropy(logits, targets)\n",
    "\n",
    "        return logits, loss\n"
   ]
  },
  {
   "cell_type": "code",
   "execution_count": 137,
   "metadata": {},
   "outputs": [
    {
     "data": {
      "text/plain": [
       "'cuda'"
      ]
     },
     "execution_count": 137,
     "metadata": {},
     "output_type": "execute_result"
    }
   ],
   "source": [
    "device"
   ]
  },
  {
   "cell_type": "code",
   "execution_count": null,
   "metadata": {},
   "outputs": [],
   "source": []
  },
  {
   "cell_type": "code",
   "execution_count": null,
   "metadata": {},
   "outputs": [],
   "source": []
  },
  {
   "cell_type": "code",
   "execution_count": 138,
   "metadata": {},
   "outputs": [
    {
     "data": {
      "text/plain": [
       "'cuda'"
      ]
     },
     "execution_count": 138,
     "metadata": {},
     "output_type": "execute_result"
    }
   ],
   "source": [
    "batch_size = 64\n",
    "block_size = 256 #157\n",
    "max_iters = 5000\n",
    "eval_interval = 500\n",
    "lr = 1e-3\n",
    "#device = 'cuda' if torch.cuda.is_available() else 'cpu'\n",
    "#device = torch.device('mps' if torch.backends.mps.is_available() else 'cpu')\n",
    "#device = cpu'\n",
    "eval_iters = 200\n",
    "n_embd = 512\n",
    "n_head=8\n",
    "n_layer = 6\n",
    "dropout = 0.2\n",
    "device"
   ]
  },
  {
   "cell_type": "code",
   "execution_count": null,
   "metadata": {},
   "outputs": [],
   "source": []
  },
  {
   "cell_type": "code",
   "execution_count": 139,
   "metadata": {},
   "outputs": [
    {
     "name": "stdout",
     "output_type": "stream",
     "text": [
      "number of parameters: 19.21M\n"
     ]
    }
   ],
   "source": [
    "model = NLP_Model()\n",
    "model = model.to(device)"
   ]
  },
  {
   "cell_type": "code",
   "execution_count": 140,
   "metadata": {},
   "outputs": [],
   "source": [
    "optimizer = torch.optim.AdamW(model.parameters(), lr=lr)"
   ]
  },
  {
   "cell_type": "code",
   "execution_count": null,
   "metadata": {},
   "outputs": [],
   "source": []
  },
  {
   "cell_type": "code",
   "execution_count": null,
   "metadata": {},
   "outputs": [],
   "source": []
  },
  {
   "cell_type": "code",
   "execution_count": 141,
   "metadata": {},
   "outputs": [
    {
     "data": {
      "text/plain": [
       "127"
      ]
     },
     "execution_count": 141,
     "metadata": {},
     "output_type": "execute_result"
    }
   ],
   "source": [
    "vocab_size = len(chars)\n",
    "vocab_size"
   ]
  },
  {
   "cell_type": "code",
   "execution_count": 142,
   "metadata": {},
   "outputs": [
    {
     "name": "stdout",
     "output_type": "stream",
     "text": [
      "step 0: train loss 4.5424, val loss 3.6723\n",
      "step 500: train loss 0.6405, val loss 0.9807\n",
      "step 1000: train loss 0.5736, val loss 0.8965\n",
      "step 1500: train loss 0.6167, val loss 1.1849\n",
      "step 2000: train loss 0.4758, val loss 0.9619\n",
      "step 2500: train loss 0.9114, val loss 1.0898\n",
      "step 3000: train loss 0.6320, val loss 0.7950\n",
      "step 3500: train loss 0.6202, val loss 0.7302\n",
      "step 4000: train loss 0.5891, val loss 0.7319\n",
      "step 4500: train loss 0.5765, val loss 0.7465\n",
      "step 4999: train loss 0.5766, val loss 0.7422\n"
     ]
    }
   ],
   "source": [
    "for iter in range(max_iters):\n",
    "    if iter % eval_interval == 0 or iter ==max_iters-1:\n",
    "        losses = estimate_loss()\n",
    "        print(f\"step {iter}: train loss {losses['train']:.4f}, val loss {losses['val']:.4f}\")\n",
    "    xb, yb = get_batch('train')\n",
    "\n",
    "    logits, loss = model(xb, yb)\n",
    "    optimizer.zero_grad(set_to_none = True)\n",
    "    loss.backward()\n",
    "    optimizer.step()                                             "
   ]
  },
  {
   "cell_type": "code",
   "execution_count": null,
   "metadata": {},
   "outputs": [],
   "source": []
  },
  {
   "cell_type": "code",
   "execution_count": 143,
   "metadata": {},
   "outputs": [],
   "source": [
    "data_test.shape, test_id.shape\n",
    "@torch.no_grad()\n",
    "def estimate_loss_test():\n",
    "    result = {}\n",
    "    for id, text in zip(test_id, data_test):\n",
    "\n",
    "        logits = model(text, None)\n",
    "        print(logits)\n",
    "        result[id] = logits\n",
    "        break\n",
    "\n",
    "    return result"
   ]
  },
  {
   "cell_type": "code",
   "execution_count": 144,
   "metadata": {},
   "outputs": [
    {
     "data": {
      "text/plain": [
       "127"
      ]
     },
     "execution_count": 144,
     "metadata": {},
     "output_type": "execute_result"
    }
   ],
   "source": []
  },
  {
   "cell_type": "code",
   "execution_count": 145,
   "metadata": {},
   "outputs": [
    {
     "data": {
      "text/plain": [
       "{'\\n': 0,\n",
       " ' ': 1,\n",
       " '!': 2,\n",
       " '#': 3,\n",
       " '$': 4,\n",
       " '%': 5,\n",
       " '&': 6,\n",
       " \"'\": 7,\n",
       " '(': 8,\n",
       " ')': 9,\n",
       " '*': 10,\n",
       " '+': 11,\n",
       " ',': 12,\n",
       " '-': 13,\n",
       " '.': 14,\n",
       " '/': 15,\n",
       " '0': 16,\n",
       " '1': 17,\n",
       " '2': 18,\n",
       " '3': 19,\n",
       " '4': 20,\n",
       " '5': 21,\n",
       " '6': 22,\n",
       " '7': 23,\n",
       " '8': 24,\n",
       " '9': 25,\n",
       " ':': 26,\n",
       " ';': 27,\n",
       " '=': 28,\n",
       " '>': 29,\n",
       " '?': 30,\n",
       " '@': 31,\n",
       " 'A': 32,\n",
       " 'B': 33,\n",
       " 'C': 34,\n",
       " 'D': 35,\n",
       " 'E': 36,\n",
       " 'F': 37,\n",
       " 'G': 38,\n",
       " 'H': 39,\n",
       " 'I': 40,\n",
       " 'J': 41,\n",
       " 'K': 42,\n",
       " 'L': 43,\n",
       " 'M': 44,\n",
       " 'N': 45,\n",
       " 'O': 46,\n",
       " 'P': 47,\n",
       " 'Q': 48,\n",
       " 'R': 49,\n",
       " 'S': 50,\n",
       " 'T': 51,\n",
       " 'U': 52,\n",
       " 'V': 53,\n",
       " 'W': 54,\n",
       " 'X': 55,\n",
       " 'Y': 56,\n",
       " 'Z': 57,\n",
       " '[': 58,\n",
       " '\\\\': 59,\n",
       " ']': 60,\n",
       " '^': 61,\n",
       " '_': 62,\n",
       " '`': 63,\n",
       " 'a': 64,\n",
       " 'b': 65,\n",
       " 'c': 66,\n",
       " 'd': 67,\n",
       " 'e': 68,\n",
       " 'f': 69,\n",
       " 'g': 70,\n",
       " 'h': 71,\n",
       " 'i': 72,\n",
       " 'j': 73,\n",
       " 'k': 74,\n",
       " 'l': 75,\n",
       " 'm': 76,\n",
       " 'n': 77,\n",
       " 'o': 78,\n",
       " 'p': 79,\n",
       " 'q': 80,\n",
       " 'r': 81,\n",
       " 's': 82,\n",
       " 't': 83,\n",
       " 'u': 84,\n",
       " 'v': 85,\n",
       " 'w': 86,\n",
       " 'x': 87,\n",
       " 'y': 88,\n",
       " 'z': 89,\n",
       " '{': 90,\n",
       " '|': 91,\n",
       " '}': 92,\n",
       " '~': 93,\n",
       " '\\x81': 94,\n",
       " '\\x89': 95,\n",
       " '\\x9d': 96,\n",
       " '¡': 97,\n",
       " '¢': 98,\n",
       " '£': 99,\n",
       " '¤': 100,\n",
       " '¨': 101,\n",
       " '©': 102,\n",
       " 'ª': 103,\n",
       " '«': 104,\n",
       " '¬': 105,\n",
       " '´': 106,\n",
       " '¼': 107,\n",
       " 'À': 108,\n",
       " 'Â': 109,\n",
       " 'Ç': 110,\n",
       " 'È': 111,\n",
       " 'Ê': 112,\n",
       " 'Ì': 113,\n",
       " 'Ï': 114,\n",
       " 'Ñ': 115,\n",
       " 'Ò': 116,\n",
       " 'Ó': 117,\n",
       " 'Û': 118,\n",
       " 'à': 119,\n",
       " 'á': 120,\n",
       " 'â': 121,\n",
       " 'ã': 122,\n",
       " 'ä': 123,\n",
       " 'å': 124,\n",
       " '÷': 125,\n",
       " 'ü': 126}"
      ]
     },
     "execution_count": 145,
     "metadata": {},
     "output_type": "execute_result"
    }
   ],
   "source": [
    "stoi"
   ]
  },
  {
   "cell_type": "code",
   "execution_count": 146,
   "metadata": {},
   "outputs": [
    {
     "data": {
      "text/plain": [
       "NLP_Model(\n",
       "  (transformer): ModuleDict(\n",
       "    (wte): Embedding(127, 512)\n",
       "    (wpe): Embedding(256, 512)\n",
       "    (drop): Dropout(p=0.2, inplace=False)\n",
       "    (h): ModuleList(\n",
       "      (0-5): 6 x Block(\n",
       "        (attn): MHA(\n",
       "          (c_proj): Linear(in_features=512, out_features=512, bias=False)\n",
       "          (attn_dropout): Dropout(p=0.2, inplace=False)\n",
       "          (resid_dropout): Dropout(p=0.2, inplace=False)\n",
       "          (c_attn): Linear(in_features=512, out_features=1536, bias=False)\n",
       "          (dropout): Dropout(p=0.2, inplace=False)\n",
       "        )\n",
       "        (mlp): MLP(\n",
       "          (c_fc): Linear(in_features=512, out_features=2048, bias=False)\n",
       "          (gelu): GELU(approximate='none')\n",
       "          (c_proj): Linear(in_features=2048, out_features=512, bias=True)\n",
       "          (dropout): Dropout(p=0.2, inplace=False)\n",
       "        )\n",
       "        (ln_1): LayerNorm()\n",
       "        (ln_2): LayerNorm()\n",
       "      )\n",
       "    )\n",
       "    (ln_f): LayerNorm()\n",
       "  )\n",
       "  (lm_head): Linear(in_features=131072, out_features=2, bias=False)\n",
       ")"
      ]
     },
     "execution_count": 146,
     "metadata": {},
     "output_type": "execute_result"
    }
   ],
   "source": [
    "# # Save model parameters\n",
    "torch.save(model.state_dict(), 'model_weights.pth')\n",
    "\n",
    "# # Save optimizer state\n",
    "torch.save(optimizer.state_dict(), 'optimizer_state.pth')\n",
    "model.eval()"
   ]
  },
  {
   "cell_type": "code",
   "execution_count": 149,
   "metadata": {},
   "outputs": [],
   "source": [
    "@torch.no_grad()\n",
    "def estimate_loss_test():\n",
    "    result = {}\n",
    "    for id, text in zip(test_id, data_test):\n",
    "\n",
    "        \n",
    "        logits, loss = model(text.view(1,256).to('cuda'))\n",
    "        result[id.item()] = torch.argmax(logits, dim=-1).item()\n",
    "\n",
    "    return result"
   ]
  },
  {
   "cell_type": "code",
   "execution_count": 150,
   "metadata": {},
   "outputs": [],
   "source": [
    "out = estimate_loss_test()\n",
    "df1 = pd.DataFrame.from_dict(out, orient='index', columns=['target']) \\\n",
    "                 .reset_index() \\\n",
    "                 .rename(columns={'index': 'id'})"
   ]
  },
  {
   "cell_type": "code",
   "execution_count": null,
   "metadata": {},
   "outputs": [],
   "source": []
  },
  {
   "cell_type": "code",
   "execution_count": null,
   "metadata": {},
   "outputs": [],
   "source": []
  }
 ],
 "metadata": {
  "kernelspec": {
   "display_name": "Python3 (ipykernel)",
   "language": "python",
   "name": "python3"
  },
  "language_info": {
   "codemirror_mode": {
    "name": "ipython",
    "version": 3
   },
   "file_extension": ".py",
   "mimetype": "text/x-python",
   "name": "python",
   "nbconvert_exporter": "python",
   "pygments_lexer": "ipython3",
   "version": "3.12.3"
  }
 },
 "nbformat": 4,
 "nbformat_minor": 4
}
